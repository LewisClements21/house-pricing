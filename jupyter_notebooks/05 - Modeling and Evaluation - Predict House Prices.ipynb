{
  "cells": [
    {
      "cell_type": "markdown",
      "metadata": {
        "id": "0aStgWSO0E0E"
      },
      "source": [
        "# **House Price Predictor: Regression**"
      ]
    },
    {
      "cell_type": "markdown",
      "metadata": {
        "id": "1eLEkw5O0ECa"
      },
      "source": [
        "## Objectives\n",
        "\n",
        "* Fit and evaluate a regression model to predict sale prices of inherited houses\n",
        "\n",
        "## Inputs\n",
        "\n",
        "* outputs/datasets/cleaned/HousePricesCleaned.csv\n",
        "* instructions on which variables to use for data cleaning and feature engineering, found in data cleaning and feature engineering notebooks.\n",
        "\n",
        "## Outputs\n",
        "\n",
        "* Train set (features and target)\n",
        "* Test set (features and target)\n",
        "* ML pipeline to predict house prices\n",
        "* Feature Importance Plot\n",
        "* Model performance plot\n",
        "\n",
        "## Conclusions\n",
        " \n",
        "* As we hypothesized,\n",
        "    * Size does matter: ['GrLivArea', 'GarageArea', 'TotalBsmtSF']\n",
        "    * Quality is important: ['OverallQual' ]\n",
        "    * Time matters: ['YearBuilt' ]"
      ]
    },
    {
      "cell_type": "markdown",
      "metadata": {
        "id": "9uWZXH9LwoQg"
      },
      "source": [
        "---"
      ]
    },
    {
      "cell_type": "markdown",
      "metadata": {},
      "source": [
        "# Change working directory"
      ]
    },
    {
      "cell_type": "markdown",
      "metadata": {},
      "source": [
        "We need to change the working directory from its current folder to its parent folder\n",
        "* We access the current directory with os.getcwd()"
      ]
    },
    {
      "cell_type": "code",
      "execution_count": 1,
      "metadata": {},
      "outputs": [
        {
          "data": {
            "text/plain": [
              "'/workspace/heritage-housing-issues/jupyter_notebooks'"
            ]
          },
          "execution_count": 1,
          "metadata": {},
          "output_type": "execute_result"
        }
      ],
      "source": [
        "import os\n",
        "current_dir = os.getcwd()\n",
        "current_dir"
      ]
    },
    {
      "cell_type": "markdown",
      "metadata": {},
      "source": [
        "We want to make the parent of the parent of current directory the new current directory\n",
        "* os.path.dirname() gets the parent directory\n",
        "* os.chdir() defines the new current directory"
      ]
    },
    {
      "cell_type": "code",
      "execution_count": 2,
      "metadata": {},
      "outputs": [
        {
          "name": "stdout",
          "output_type": "stream",
          "text": [
            "You set a new current directory\n"
          ]
        }
      ],
      "source": [
        "os.chdir(os.path.dirname(current_dir))\n",
        "print(\"You set a new current directory\")"
      ]
    },
    {
      "cell_type": "markdown",
      "metadata": {},
      "source": [
        "Confirm the new current directory"
      ]
    },
    {
      "cell_type": "code",
      "execution_count": 3,
      "metadata": {},
      "outputs": [
        {
          "data": {
            "text/plain": [
              "'/workspace/heritage-housing-issues'"
            ]
          },
          "execution_count": 3,
          "metadata": {},
          "output_type": "execute_result"
        }
      ],
      "source": [
        "current_dir = os.getcwd()\n",
        "current_dir"
      ]
    },
    {
      "cell_type": "markdown",
      "metadata": {
        "id": "pXKlJFX0iuM5"
      },
      "source": [
        "---"
      ]
    },
    {
      "cell_type": "markdown",
      "metadata": {
        "id": "-mavJ8DibrcQ"
      },
      "source": [
        "# Load Data"
      ]
    },
    {
      "cell_type": "code",
      "execution_count": 4,
      "metadata": {
        "id": "Xk7DU_ekbtX8"
      },
      "outputs": [
        {
          "name": "stdout",
          "output_type": "stream",
          "text": [
            "(1460, 24)\n"
          ]
        },
        {
          "data": {
            "text/html": [
              "<div>\n",
              "<style scoped>\n",
              "    .dataframe tbody tr th:only-of-type {\n",
              "        vertical-align: middle;\n",
              "    }\n",
              "\n",
              "    .dataframe tbody tr th {\n",
              "        vertical-align: top;\n",
              "    }\n",
              "\n",
              "    .dataframe thead th {\n",
              "        text-align: right;\n",
              "    }\n",
              "</style>\n",
              "<table border=\"1\" class=\"dataframe\">\n",
              "  <thead>\n",
              "    <tr style=\"text-align: right;\">\n",
              "      <th></th>\n",
              "      <th>1stFlrSF</th>\n",
              "      <th>2ndFlrSF</th>\n",
              "      <th>BedroomAbvGr</th>\n",
              "      <th>BsmtExposure</th>\n",
              "      <th>BsmtFinSF1</th>\n",
              "      <th>BsmtFinType1</th>\n",
              "      <th>BsmtUnfSF</th>\n",
              "      <th>EnclosedPorch</th>\n",
              "      <th>GarageArea</th>\n",
              "      <th>GarageFinish</th>\n",
              "      <th>...</th>\n",
              "      <th>LotFrontage</th>\n",
              "      <th>MasVnrArea</th>\n",
              "      <th>OpenPorchSF</th>\n",
              "      <th>OverallCond</th>\n",
              "      <th>OverallQual</th>\n",
              "      <th>TotalBsmtSF</th>\n",
              "      <th>WoodDeckSF</th>\n",
              "      <th>YearBuilt</th>\n",
              "      <th>YearRemodAdd</th>\n",
              "      <th>SalePrice</th>\n",
              "    </tr>\n",
              "  </thead>\n",
              "  <tbody>\n",
              "    <tr>\n",
              "      <th>0</th>\n",
              "      <td>856</td>\n",
              "      <td>854.0</td>\n",
              "      <td>3.0</td>\n",
              "      <td>No</td>\n",
              "      <td>706</td>\n",
              "      <td>GLQ</td>\n",
              "      <td>150</td>\n",
              "      <td>0.0</td>\n",
              "      <td>548</td>\n",
              "      <td>RFn</td>\n",
              "      <td>...</td>\n",
              "      <td>65.0</td>\n",
              "      <td>196.0</td>\n",
              "      <td>61</td>\n",
              "      <td>5</td>\n",
              "      <td>7</td>\n",
              "      <td>856</td>\n",
              "      <td>0.0</td>\n",
              "      <td>2003</td>\n",
              "      <td>2003</td>\n",
              "      <td>208500</td>\n",
              "    </tr>\n",
              "    <tr>\n",
              "      <th>1</th>\n",
              "      <td>1262</td>\n",
              "      <td>0.0</td>\n",
              "      <td>3.0</td>\n",
              "      <td>Gd</td>\n",
              "      <td>978</td>\n",
              "      <td>ALQ</td>\n",
              "      <td>284</td>\n",
              "      <td>NaN</td>\n",
              "      <td>460</td>\n",
              "      <td>RFn</td>\n",
              "      <td>...</td>\n",
              "      <td>80.0</td>\n",
              "      <td>0.0</td>\n",
              "      <td>0</td>\n",
              "      <td>8</td>\n",
              "      <td>6</td>\n",
              "      <td>1262</td>\n",
              "      <td>NaN</td>\n",
              "      <td>1976</td>\n",
              "      <td>1976</td>\n",
              "      <td>181500</td>\n",
              "    </tr>\n",
              "    <tr>\n",
              "      <th>2</th>\n",
              "      <td>920</td>\n",
              "      <td>866.0</td>\n",
              "      <td>3.0</td>\n",
              "      <td>Mn</td>\n",
              "      <td>486</td>\n",
              "      <td>GLQ</td>\n",
              "      <td>434</td>\n",
              "      <td>0.0</td>\n",
              "      <td>608</td>\n",
              "      <td>RFn</td>\n",
              "      <td>...</td>\n",
              "      <td>68.0</td>\n",
              "      <td>162.0</td>\n",
              "      <td>42</td>\n",
              "      <td>5</td>\n",
              "      <td>7</td>\n",
              "      <td>920</td>\n",
              "      <td>NaN</td>\n",
              "      <td>2001</td>\n",
              "      <td>2002</td>\n",
              "      <td>223500</td>\n",
              "    </tr>\n",
              "  </tbody>\n",
              "</table>\n",
              "<p>3 rows × 24 columns</p>\n",
              "</div>"
            ],
            "text/plain": [
              "   1stFlrSF  2ndFlrSF  BedroomAbvGr BsmtExposure  BsmtFinSF1 BsmtFinType1  \\\n",
              "0       856     854.0           3.0           No         706          GLQ   \n",
              "1      1262       0.0           3.0           Gd         978          ALQ   \n",
              "2       920     866.0           3.0           Mn         486          GLQ   \n",
              "\n",
              "   BsmtUnfSF  EnclosedPorch  GarageArea GarageFinish  ...  LotFrontage  \\\n",
              "0        150            0.0         548          RFn  ...         65.0   \n",
              "1        284            NaN         460          RFn  ...         80.0   \n",
              "2        434            0.0         608          RFn  ...         68.0   \n",
              "\n",
              "   MasVnrArea OpenPorchSF  OverallCond  OverallQual  TotalBsmtSF  WoodDeckSF  \\\n",
              "0       196.0          61            5            7          856         0.0   \n",
              "1         0.0           0            8            6         1262         NaN   \n",
              "2       162.0          42            5            7          920         NaN   \n",
              "\n",
              "   YearBuilt  YearRemodAdd  SalePrice  \n",
              "0       2003          2003     208500  \n",
              "1       1976          1976     181500  \n",
              "2       2001          2002     223500  \n",
              "\n",
              "[3 rows x 24 columns]"
            ]
          },
          "execution_count": 4,
          "metadata": {},
          "output_type": "execute_result"
        }
      ],
      "source": [
        "import numpy as np\n",
        "import pandas as pd\n",
        "df = pd.read_csv(\"outputs/datasets/collection/HousePrices.csv\") \n",
        "\n",
        "print(df.shape)\n",
        "df.head(3)"
      ]
    },
    {
      "cell_type": "markdown",
      "metadata": {
        "id": "krjAk78Tbyhv"
      },
      "source": [
        "# ML Pipeline: Regressor"
      ]
    },
    {
      "cell_type": "markdown",
      "metadata": {},
      "source": [
        "## Import necessary libraries"
      ]
    },
    {
      "cell_type": "code",
      "execution_count": 5,
      "metadata": {
        "id": "C6keis6ao8LA"
      },
      "outputs": [],
      "source": [
        "from sklearn.pipeline import Pipeline\n",
        "\n",
        "### Data Cleaning\n",
        "from feature_engine.imputation import MeanMedianImputer\n",
        "from feature_engine.selection import DropFeatures\n",
        "from feature_engine.imputation import CategoricalImputer\n",
        "\n",
        "### Feature Engineering\n",
        "from feature_engine import creation\n",
        "from feature_engine.encoding import OrdinalEncoder\n",
        "from feature_engine.selection import SmartCorrelatedSelection\n",
        "from feature_engine import transformation as vt\n",
        "from feature_engine.outliers import Winsorizer\n",
        "\n",
        "### Feature Scaling\n",
        "from sklearn.preprocessing import StandardScaler\n",
        "\n",
        "### Feature Selection\n",
        "from sklearn.feature_selection import SelectFromModel\n",
        "\n",
        "### ML algorithms \n",
        "from sklearn.tree import DecisionTreeRegressor\n",
        "from xgboost import XGBRegressor\n",
        "from sklearn.ensemble import GradientBoostingRegressor, RandomForestRegressor\n",
        "from sklearn.linear_model import LinearRegression\n",
        "from sklearn.ensemble import AdaBoostRegressor\n",
        "from sklearn.ensemble import ExtraTreesRegressor"
      ]
    },
    {
      "cell_type": "markdown",
      "metadata": {},
      "source": [
        "## Create ML pipeline\n",
        "\n",
        "* We combine the data cleaning and feature engineering pipelines we created in their respective notebooks."
      ]
    },
    {
      "cell_type": "code",
      "execution_count": 6,
      "metadata": {},
      "outputs": [],
      "source": [
        "# Pipeline optimization\n",
        "def PipelineOptimization(model):\n",
        "  pipeline_base = Pipeline([\n",
        "    # Data cleaning (copied from Data Cleaning notebook)\n",
        "     ( 'drop',  DropFeatures(features_to_drop=['EnclosedPorch',\n",
        "                                              'GarageYrBlt',\n",
        "                                              'WoodDeckSF']) ),\n",
        "\n",
        "     ( 'mean',  MeanMedianImputer(imputation_method='mean',\n",
        "                                     variables=['TotalBsmtSF', '1stFlrSF',\n",
        "                                     '2ndFlrSF', 'LotFrontage' , 'BedroomAbvGr']) ),\n",
        "\n",
        "     ( 'median',  MeanMedianImputer(imputation_method='median',\n",
        "                                     variables=['MasVnrArea', '2ndFlrSF']) ),\n",
        "   \n",
        "    ( 'categorical',  CategoricalImputer(imputation_method='missing',\n",
        "                                     fill_value='Unf',\n",
        "                                     variables=['GarageFinish' , 'BsmtFinType1']) ),\n",
        "\n",
        "    # Feature engineering (copied from Feature Engineering notebook)\n",
        "    (\"OrdinalCategoricalEncoder\",OrdinalEncoder(encoding_method='arbitrary', \n",
        "                                                  variables = ['BsmtExposure',\n",
        "                                                               'BsmtFinType1',\n",
        "                                                               'GarageFinish',\n",
        "                                                               'KitchenQual'] ) ),\n",
        "    \n",
        "    ('lt', vt.LogTransformer(variables = ['GrLivArea', 'LotArea', 'LotFrontage']) ),\n",
        "\n",
        "    ('pt', vt.PowerTransformer(variables = ['GarageArea',\n",
        "                                            'MasVnrArea', \n",
        "                                            'OpenPorchSF',\n",
        "                                            'TotalBsmtSF',\n",
        "                                            '1stFlrSF',\n",
        "                                            '2ndFlrSF']) ),\n",
        "      \n",
        "    (\"Winsoriser_iqr\",Winsorizer(capping_method='iqr', fold=1.5, tail='both', \n",
        "                                                  variables=['GarageArea',\n",
        "                                                             'LotArea',\n",
        "                                                             'LotFrontage',\n",
        "                                                             'MasVnrArea',\n",
        "                                                             'OpenPorchSF',\n",
        "                                                             'TotalBsmtSF',\n",
        "                                                             '1stFlrSF',\n",
        "                                                             '2ndFlrSF']) ),      \n",
        "       \n",
        "    (\"SmartCorrelatedSelection\",SmartCorrelatedSelection(variables= None,\n",
        "       method=\"spearman\", threshold=0.8,selection_method=\"variance\") ),\n",
        "\n",
        "    (\"feat_scaling\", StandardScaler() ),\n",
        "\n",
        "    (\"feat_selection\",  SelectFromModel(model) ),\n",
        "\n",
        "    (\"model\", model ),\n",
        "    ])\n",
        "\n",
        "  return pipeline_base"
      ]
    },
    {
      "cell_type": "markdown",
      "metadata": {
        "id": "lDmjjF3tHuCU"
      },
      "source": [
        "Custom Class for hyperparameter Optimization\n",
        "\n",
        "* Code copied from walk through project prepared by Code Institute"
      ]
    },
    {
      "cell_type": "code",
      "execution_count": 7,
      "metadata": {
        "id": "NpTcVDtQ5RMc"
      },
      "outputs": [],
      "source": [
        "from sklearn.model_selection import GridSearchCV\n",
        "class HyperparameterOptimizationSearch:\n",
        "\n",
        "    def __init__(self, models, params):\n",
        "        self.models = models\n",
        "        self.params = params\n",
        "        self.keys = models.keys()\n",
        "        self.grid_searches = {}\n",
        "\n",
        "    def fit(self, X, y, cv, n_jobs, verbose=1, scoring=None, refit=False):\n",
        "        for key in self.keys:\n",
        "            print(f\"\\nRunning GridSearchCV for {key} \\n\")\n",
        "            model=  PipelineOptimization(self.models[key])\n",
        "\n",
        "            params = self.params[key]\n",
        "            gs = GridSearchCV(model, params, cv=cv, n_jobs=n_jobs, verbose=verbose, scoring=scoring)\n",
        "            gs.fit(X,y)\n",
        "            self.grid_searches[key] = gs    \n",
        "\n",
        "    def score_summary(self, sort_by='mean_score'):\n",
        "        def row(key, scores, params):\n",
        "            d = {\n",
        "                 'estimator': key,\n",
        "                 'min_score': min(scores),\n",
        "                 'max_score': max(scores),\n",
        "                 'mean_score': np.mean(scores),\n",
        "                 'std_score': np.std(scores),\n",
        "            }\n",
        "            return pd.Series({**params,**d})\n",
        "\n",
        "        rows = []\n",
        "        for k in self.grid_searches:\n",
        "            params = self.grid_searches[k].cv_results_['params']\n",
        "            scores = []\n",
        "            for i in range(self.grid_searches[k].cv):\n",
        "                key = \"split{}_test_score\".format(i)\n",
        "                r = self.grid_searches[k].cv_results_[key]        \n",
        "                scores.append(r.reshape(len(params),1))\n",
        "\n",
        "            all_scores = np.hstack(scores)\n",
        "            for p, s in zip(params,all_scores):\n",
        "                rows.append((row(k, s, p)))\n",
        "\n",
        "        df = pd.concat(rows, axis=1).T.sort_values([sort_by], ascending=False)\n",
        "\n",
        "        columns = ['estimator', 'min_score', 'mean_score', 'max_score', 'std_score']\n",
        "        columns = columns + [c for c in df.columns if c not in columns]\n",
        "\n",
        "        return df[columns], self.grid_searches\n"
      ]
    },
    {
      "cell_type": "markdown",
      "metadata": {
        "id": "LD6B3CuhiDMT"
      },
      "source": [
        "## Split Train Test Set"
      ]
    },
    {
      "cell_type": "code",
      "execution_count": 8,
      "metadata": {
        "id": "-pFzP2iGiIk1"
      },
      "outputs": [
        {
          "name": "stdout",
          "output_type": "stream",
          "text": [
            "* Train set: (1168, 23) (1168,) \n",
            "* Test set: (292, 23) (292,)\n"
          ]
        }
      ],
      "source": [
        "from sklearn.model_selection import train_test_split\n",
        "X_train, X_test,y_train, y_test = train_test_split(\n",
        "                                    df.drop(['SalePrice'], axis=1) ,\n",
        "                                    df['SalePrice'],\n",
        "                                    test_size=0.2,\n",
        "                                    random_state=0\n",
        "                                    )\n",
        "\n",
        "print(\"* Train set:\", X_train.shape, y_train.shape, \"\\n* Test set:\",  X_test.shape, y_test.shape)"
      ]
    },
    {
      "cell_type": "markdown",
      "metadata": {
        "id": "-15-sWUST6XX"
      },
      "source": [
        "## Grid Search CV - Sklearn"
      ]
    },
    {
      "cell_type": "markdown",
      "metadata": {
        "id": "KTFXq-ieogBj"
      },
      "source": [
        "### Use default hyperparameters to find most suitable algorithm"
      ]
    },
    {
      "cell_type": "code",
      "execution_count": 9,
      "metadata": {
        "id": "XZKV86gsPw8c"
      },
      "outputs": [],
      "source": [
        "models_quick_search = {\n",
        "    \"LinearRegression\": LinearRegression(),\n",
        "    \"DecisionTreeRegressor\": DecisionTreeRegressor(random_state=0),\n",
        "    \"RandomForestRegressor\": RandomForestRegressor(random_state=0),\n",
        "    \"ExtraTreesRegressor\": ExtraTreesRegressor(random_state=0),\n",
        "    \"AdaBoostRegressor\": AdaBoostRegressor(random_state=0),\n",
        "    \"GradientBoostingRegressor\": GradientBoostingRegressor(random_state=0),\n",
        "    \"XGBRegressor\": XGBRegressor(random_state=0),\n",
        "}\n",
        "\n",
        "# From Scikit-learn Unit 6\n",
        "params_quick_search = {\n",
        "    \"LinearRegression\": {},\n",
        "\n",
        "    \"DecisionTreeRegressor\": {'model__max_depth': [None,4, 15],\n",
        "                             'model__min_samples_split': [2,50],\n",
        "                             'model__min_samples_leaf': [1,50],\n",
        "                             'model__max_leaf_nodes': [None,50],\n",
        "        },\n",
        "\n",
        "    \"RandomForestRegressor\": {'model__n_estimators': [100,50, 140],\n",
        "                             'model__max_depth': [None,4, 15],\n",
        "                             'model__min_samples_split': [2,50],\n",
        "                             'model__min_samples_leaf': [1,50],\n",
        "                             'model__max_leaf_nodes': [None,50],\n",
        "        },\n",
        "\n",
        "    \"ExtraTreesRegressor\": {'model__n_estimators': [100,50,150],\n",
        "        'model__max_depth': [None, 3, 15],\n",
        "        'model__min_samples_split': [2, 50],\n",
        "        'model__min_samples_leaf': [1,50],\n",
        "        },\n",
        "\n",
        "    \"AdaBoostRegressor\": {'model__n_estimators': [50,25,80,150],\n",
        "                          'model__learning_rate':[1,0.1, 2],\n",
        "                          'model__loss':['linear', 'square', 'exponential'],\n",
        "        },\n",
        "\n",
        "    \"GradientBoostingRegressor\": {'model__n_estimators': [100,50,140],\n",
        "                                  'model__learning_rate':[0.1, 0.01, 0.001],\n",
        "                                  'model__max_depth': [3,15, None],\n",
        "                                  'model__min_samples_split': [2,50],\n",
        "                                  'model__min_samples_leaf': [1,50],\n",
        "                                  'model__max_leaf_nodes': [None,50],\n",
        "        },\n",
        "\n",
        "    \"XGBRegressor\": {'model__n_estimators': [30,80,200],\n",
        "                    'model__max_depth': [None, 3, 15],\n",
        "                    'model__learning_rate': [0.01,0.1,0.001],\n",
        "                    'model__gamma': [0, 0.1],\n",
        "        },\n",
        "}"
      ]
    },
    {
      "cell_type": "markdown",
      "metadata": {
        "id": "jGABtSoSLP9u"
      },
      "source": [
        "Do a hyperparameter optimization search using default hyperparameters"
      ]
    },
    {
      "cell_type": "code",
      "execution_count": 10,
      "metadata": {
        "id": "-_q-ru92GiBb"
      },
      "outputs": [
        {
          "name": "stdout",
          "output_type": "stream",
          "text": [
            "\n",
            "Running GridSearchCV for LinearRegression \n",
            "\n",
            "Fitting 5 folds for each of 1 candidates, totalling 5 fits\n",
            "\n",
            "Running GridSearchCV for DecisionTreeRegressor \n",
            "\n",
            "Fitting 5 folds for each of 24 candidates, totalling 120 fits\n",
            "\n",
            "Running GridSearchCV for RandomForestRegressor \n",
            "\n",
            "Fitting 5 folds for each of 72 candidates, totalling 360 fits\n",
            "\n",
            "Running GridSearchCV for ExtraTreesRegressor \n",
            "\n",
            "Fitting 5 folds for each of 36 candidates, totalling 180 fits\n",
            "\n",
            "Running GridSearchCV for AdaBoostRegressor \n",
            "\n",
            "Fitting 5 folds for each of 36 candidates, totalling 180 fits\n",
            "\n",
            "Running GridSearchCV for GradientBoostingRegressor \n",
            "\n",
            "Fitting 5 folds for each of 216 candidates, totalling 1080 fits\n",
            "\n",
            "Running GridSearchCV for XGBRegressor \n",
            "\n",
            "Fitting 5 folds for each of 54 candidates, totalling 270 fits\n"
          ]
        }
      ],
      "source": [
        "search = HyperparameterOptimizationSearch(models=models_quick_search, params=params_quick_search)\n",
        "search.fit(X_train, y_train, scoring='r2', n_jobs=-1, cv=5)"
      ]
    },
    {
      "cell_type": "markdown",
      "metadata": {
        "id": "c7p56nXeoqWo"
      },
      "source": [
        "Check results"
      ]
    },
    {
      "cell_type": "code",
      "execution_count": 11,
      "metadata": {
        "id": "mq4YlrmZooiw"
      },
      "outputs": [
        {
          "data": {
            "text/html": [
              "<div>\n",
              "<style scoped>\n",
              "    .dataframe tbody tr th:only-of-type {\n",
              "        vertical-align: middle;\n",
              "    }\n",
              "\n",
              "    .dataframe tbody tr th {\n",
              "        vertical-align: top;\n",
              "    }\n",
              "\n",
              "    .dataframe thead th {\n",
              "        text-align: right;\n",
              "    }\n",
              "</style>\n",
              "<table border=\"1\" class=\"dataframe\">\n",
              "  <thead>\n",
              "    <tr style=\"text-align: right;\">\n",
              "      <th></th>\n",
              "      <th>estimator</th>\n",
              "      <th>min_score</th>\n",
              "      <th>mean_score</th>\n",
              "      <th>max_score</th>\n",
              "      <th>std_score</th>\n",
              "      <th>model__max_depth</th>\n",
              "      <th>model__max_leaf_nodes</th>\n",
              "      <th>model__min_samples_leaf</th>\n",
              "      <th>model__min_samples_split</th>\n",
              "      <th>model__n_estimators</th>\n",
              "      <th>model__learning_rate</th>\n",
              "      <th>model__loss</th>\n",
              "      <th>model__gamma</th>\n",
              "    </tr>\n",
              "  </thead>\n",
              "  <tbody>\n",
              "    <tr>\n",
              "      <th>124</th>\n",
              "      <td>ExtraTreesRegressor</td>\n",
              "      <td>0.766093</td>\n",
              "      <td>0.815705</td>\n",
              "      <td>0.853566</td>\n",
              "      <td>0.0403492</td>\n",
              "      <td>15</td>\n",
              "      <td>NaN</td>\n",
              "      <td>1</td>\n",
              "      <td>50</td>\n",
              "      <td>100</td>\n",
              "      <td>NaN</td>\n",
              "      <td>NaN</td>\n",
              "      <td>NaN</td>\n",
              "    </tr>\n",
              "    <tr>\n",
              "      <th>100</th>\n",
              "      <td>ExtraTreesRegressor</td>\n",
              "      <td>0.765955</td>\n",
              "      <td>0.815677</td>\n",
              "      <td>0.853566</td>\n",
              "      <td>0.040383</td>\n",
              "      <td>None</td>\n",
              "      <td>NaN</td>\n",
              "      <td>1</td>\n",
              "      <td>50</td>\n",
              "      <td>100</td>\n",
              "      <td>NaN</td>\n",
              "      <td>NaN</td>\n",
              "      <td>NaN</td>\n",
              "    </tr>\n",
              "    <tr>\n",
              "      <th>126</th>\n",
              "      <td>ExtraTreesRegressor</td>\n",
              "      <td>0.76353</td>\n",
              "      <td>0.815268</td>\n",
              "      <td>0.85295</td>\n",
              "      <td>0.0399437</td>\n",
              "      <td>15</td>\n",
              "      <td>NaN</td>\n",
              "      <td>1</td>\n",
              "      <td>50</td>\n",
              "      <td>150</td>\n",
              "      <td>NaN</td>\n",
              "      <td>NaN</td>\n",
              "      <td>NaN</td>\n",
              "    </tr>\n",
              "    <tr>\n",
              "      <th>102</th>\n",
              "      <td>ExtraTreesRegressor</td>\n",
              "      <td>0.763435</td>\n",
              "      <td>0.815241</td>\n",
              "      <td>0.85295</td>\n",
              "      <td>0.0399625</td>\n",
              "      <td>None</td>\n",
              "      <td>NaN</td>\n",
              "      <td>1</td>\n",
              "      <td>50</td>\n",
              "      <td>150</td>\n",
              "      <td>NaN</td>\n",
              "      <td>NaN</td>\n",
              "      <td>NaN</td>\n",
              "    </tr>\n",
              "    <tr>\n",
              "      <th>101</th>\n",
              "      <td>ExtraTreesRegressor</td>\n",
              "      <td>0.761919</td>\n",
              "      <td>0.814121</td>\n",
              "      <td>0.854474</td>\n",
              "      <td>0.0409505</td>\n",
              "      <td>None</td>\n",
              "      <td>NaN</td>\n",
              "      <td>1</td>\n",
              "      <td>50</td>\n",
              "      <td>50</td>\n",
              "      <td>NaN</td>\n",
              "      <td>NaN</td>\n",
              "      <td>NaN</td>\n",
              "    </tr>\n",
              "    <tr>\n",
              "      <th>...</th>\n",
              "      <td>...</td>\n",
              "      <td>...</td>\n",
              "      <td>...</td>\n",
              "      <td>...</td>\n",
              "      <td>...</td>\n",
              "      <td>...</td>\n",
              "      <td>...</td>\n",
              "      <td>...</td>\n",
              "      <td>...</td>\n",
              "      <td>...</td>\n",
              "      <td>...</td>\n",
              "      <td>...</td>\n",
              "      <td>...</td>\n",
              "    </tr>\n",
              "    <tr>\n",
              "      <th>430</th>\n",
              "      <td>XGBRegressor</td>\n",
              "      <td>-6.31105</td>\n",
              "      <td>-5.09217</td>\n",
              "      <td>-4.3937</td>\n",
              "      <td>0.647972</td>\n",
              "      <td>None</td>\n",
              "      <td>NaN</td>\n",
              "      <td>NaN</td>\n",
              "      <td>NaN</td>\n",
              "      <td>30</td>\n",
              "      <td>0.001</td>\n",
              "      <td>NaN</td>\n",
              "      <td>0.1</td>\n",
              "    </tr>\n",
              "    <tr>\n",
              "      <th>409</th>\n",
              "      <td>XGBRegressor</td>\n",
              "      <td>-6.31105</td>\n",
              "      <td>-5.09219</td>\n",
              "      <td>-4.3937</td>\n",
              "      <td>0.647964</td>\n",
              "      <td>15</td>\n",
              "      <td>NaN</td>\n",
              "      <td>NaN</td>\n",
              "      <td>NaN</td>\n",
              "      <td>30</td>\n",
              "      <td>0.001</td>\n",
              "      <td>NaN</td>\n",
              "      <td>0</td>\n",
              "    </tr>\n",
              "    <tr>\n",
              "      <th>436</th>\n",
              "      <td>XGBRegressor</td>\n",
              "      <td>-6.31105</td>\n",
              "      <td>-5.09219</td>\n",
              "      <td>-4.3937</td>\n",
              "      <td>0.647964</td>\n",
              "      <td>15</td>\n",
              "      <td>NaN</td>\n",
              "      <td>NaN</td>\n",
              "      <td>NaN</td>\n",
              "      <td>30</td>\n",
              "      <td>0.001</td>\n",
              "      <td>NaN</td>\n",
              "      <td>0.1</td>\n",
              "    </tr>\n",
              "    <tr>\n",
              "      <th>433</th>\n",
              "      <td>XGBRegressor</td>\n",
              "      <td>-6.31231</td>\n",
              "      <td>-5.09362</td>\n",
              "      <td>-4.39472</td>\n",
              "      <td>0.648097</td>\n",
              "      <td>3</td>\n",
              "      <td>NaN</td>\n",
              "      <td>NaN</td>\n",
              "      <td>NaN</td>\n",
              "      <td>30</td>\n",
              "      <td>0.001</td>\n",
              "      <td>NaN</td>\n",
              "      <td>0.1</td>\n",
              "    </tr>\n",
              "    <tr>\n",
              "      <th>406</th>\n",
              "      <td>XGBRegressor</td>\n",
              "      <td>-6.31231</td>\n",
              "      <td>-5.09362</td>\n",
              "      <td>-4.39472</td>\n",
              "      <td>0.648097</td>\n",
              "      <td>3</td>\n",
              "      <td>NaN</td>\n",
              "      <td>NaN</td>\n",
              "      <td>NaN</td>\n",
              "      <td>30</td>\n",
              "      <td>0.001</td>\n",
              "      <td>NaN</td>\n",
              "      <td>0</td>\n",
              "    </tr>\n",
              "  </tbody>\n",
              "</table>\n",
              "<p>439 rows × 13 columns</p>\n",
              "</div>"
            ],
            "text/plain": [
              "               estimator min_score mean_score max_score  std_score  \\\n",
              "124  ExtraTreesRegressor  0.766093   0.815705  0.853566  0.0403492   \n",
              "100  ExtraTreesRegressor  0.765955   0.815677  0.853566   0.040383   \n",
              "126  ExtraTreesRegressor   0.76353   0.815268   0.85295  0.0399437   \n",
              "102  ExtraTreesRegressor  0.763435   0.815241   0.85295  0.0399625   \n",
              "101  ExtraTreesRegressor  0.761919   0.814121  0.854474  0.0409505   \n",
              "..                   ...       ...        ...       ...        ...   \n",
              "430         XGBRegressor  -6.31105   -5.09217   -4.3937   0.647972   \n",
              "409         XGBRegressor  -6.31105   -5.09219   -4.3937   0.647964   \n",
              "436         XGBRegressor  -6.31105   -5.09219   -4.3937   0.647964   \n",
              "433         XGBRegressor  -6.31231   -5.09362  -4.39472   0.648097   \n",
              "406         XGBRegressor  -6.31231   -5.09362  -4.39472   0.648097   \n",
              "\n",
              "    model__max_depth model__max_leaf_nodes model__min_samples_leaf  \\\n",
              "124               15                   NaN                       1   \n",
              "100             None                   NaN                       1   \n",
              "126               15                   NaN                       1   \n",
              "102             None                   NaN                       1   \n",
              "101             None                   NaN                       1   \n",
              "..               ...                   ...                     ...   \n",
              "430             None                   NaN                     NaN   \n",
              "409               15                   NaN                     NaN   \n",
              "436               15                   NaN                     NaN   \n",
              "433                3                   NaN                     NaN   \n",
              "406                3                   NaN                     NaN   \n",
              "\n",
              "    model__min_samples_split model__n_estimators model__learning_rate  \\\n",
              "124                       50                 100                  NaN   \n",
              "100                       50                 100                  NaN   \n",
              "126                       50                 150                  NaN   \n",
              "102                       50                 150                  NaN   \n",
              "101                       50                  50                  NaN   \n",
              "..                       ...                 ...                  ...   \n",
              "430                      NaN                  30                0.001   \n",
              "409                      NaN                  30                0.001   \n",
              "436                      NaN                  30                0.001   \n",
              "433                      NaN                  30                0.001   \n",
              "406                      NaN                  30                0.001   \n",
              "\n",
              "    model__loss model__gamma  \n",
              "124         NaN          NaN  \n",
              "100         NaN          NaN  \n",
              "126         NaN          NaN  \n",
              "102         NaN          NaN  \n",
              "101         NaN          NaN  \n",
              "..          ...          ...  \n",
              "430         NaN          0.1  \n",
              "409         NaN            0  \n",
              "436         NaN          0.1  \n",
              "433         NaN          0.1  \n",
              "406         NaN            0  \n",
              "\n",
              "[439 rows x 13 columns]"
            ]
          },
          "execution_count": 11,
          "metadata": {},
          "output_type": "execute_result"
        }
      ],
      "source": [
        "grid_search_summary, grid_search_pipelines = search.score_summary(sort_by='mean_score')\n",
        "grid_search_summary"
      ]
    },
    {
      "cell_type": "markdown",
      "metadata": {
        "id": "6pRUAeoG9lrZ"
      },
      "source": [
        "### Do extensive search on most suitable model to find best hyperparameter configuration"
      ]
    },
    {
      "cell_type": "markdown",
      "metadata": {
        "id": "w2XCyOYkAYpZ"
      },
      "source": [
        "Define model and parameters, for Extensive Search"
      ]
    },
    {
      "cell_type": "code",
      "execution_count": 12,
      "metadata": {
        "id": "lyjC7ThFAYKY"
      },
      "outputs": [],
      "source": [
        "models_search = {\n",
        "    \"ExtraTreesRegressor\": ExtraTreesRegressor(random_state=0),\n",
        "}\n",
        "\n",
        "params_search = {\n",
        "    \"ExtraTreesRegressor\":{'model__n_estimators': [50,100,150],\n",
        "        'model__max_depth': [None, 3, 15],\n",
        "        'model__min_samples_split': [2, 50],\n",
        "        'model__min_samples_leaf': [1,50],\n",
        "        },\n",
        "}"
      ]
    },
    {
      "cell_type": "markdown",
      "metadata": {
        "id": "sBy8thxqAlrd"
      },
      "source": [
        "Extensive GridSearch CV"
      ]
    },
    {
      "cell_type": "code",
      "execution_count": 13,
      "metadata": {
        "id": "Y_4Ob7heAYM9"
      },
      "outputs": [
        {
          "name": "stdout",
          "output_type": "stream",
          "text": [
            "\n",
            "Running GridSearchCV for ExtraTreesRegressor \n",
            "\n",
            "Fitting 5 folds for each of 36 candidates, totalling 180 fits\n"
          ]
        }
      ],
      "source": [
        "search = HyperparameterOptimizationSearch(models=models_search, params=params_search)\n",
        "search.fit(X_train, y_train, scoring = 'r2', n_jobs=-1, cv=5)"
      ]
    },
    {
      "cell_type": "markdown",
      "metadata": {
        "id": "wtNJJpLEAzdP"
      },
      "source": [
        "Check results"
      ]
    },
    {
      "cell_type": "code",
      "execution_count": 14,
      "metadata": {
        "id": "qjauRLNHAYPr"
      },
      "outputs": [
        {
          "data": {
            "text/html": [
              "<div>\n",
              "<style scoped>\n",
              "    .dataframe tbody tr th:only-of-type {\n",
              "        vertical-align: middle;\n",
              "    }\n",
              "\n",
              "    .dataframe tbody tr th {\n",
              "        vertical-align: top;\n",
              "    }\n",
              "\n",
              "    .dataframe thead th {\n",
              "        text-align: right;\n",
              "    }\n",
              "</style>\n",
              "<table border=\"1\" class=\"dataframe\">\n",
              "  <thead>\n",
              "    <tr style=\"text-align: right;\">\n",
              "      <th></th>\n",
              "      <th>estimator</th>\n",
              "      <th>min_score</th>\n",
              "      <th>mean_score</th>\n",
              "      <th>max_score</th>\n",
              "      <th>std_score</th>\n",
              "      <th>model__max_depth</th>\n",
              "      <th>model__min_samples_leaf</th>\n",
              "      <th>model__min_samples_split</th>\n",
              "      <th>model__n_estimators</th>\n",
              "    </tr>\n",
              "  </thead>\n",
              "  <tbody>\n",
              "    <tr>\n",
              "      <th>28</th>\n",
              "      <td>ExtraTreesRegressor</td>\n",
              "      <td>0.766093</td>\n",
              "      <td>0.815705</td>\n",
              "      <td>0.853566</td>\n",
              "      <td>0.0403492</td>\n",
              "      <td>15</td>\n",
              "      <td>1</td>\n",
              "      <td>50</td>\n",
              "      <td>100</td>\n",
              "    </tr>\n",
              "    <tr>\n",
              "      <th>4</th>\n",
              "      <td>ExtraTreesRegressor</td>\n",
              "      <td>0.765955</td>\n",
              "      <td>0.815677</td>\n",
              "      <td>0.853566</td>\n",
              "      <td>0.040383</td>\n",
              "      <td>None</td>\n",
              "      <td>1</td>\n",
              "      <td>50</td>\n",
              "      <td>100</td>\n",
              "    </tr>\n",
              "    <tr>\n",
              "      <th>29</th>\n",
              "      <td>ExtraTreesRegressor</td>\n",
              "      <td>0.76353</td>\n",
              "      <td>0.815268</td>\n",
              "      <td>0.85295</td>\n",
              "      <td>0.0399437</td>\n",
              "      <td>15</td>\n",
              "      <td>1</td>\n",
              "      <td>50</td>\n",
              "      <td>150</td>\n",
              "    </tr>\n",
              "    <tr>\n",
              "      <th>5</th>\n",
              "      <td>ExtraTreesRegressor</td>\n",
              "      <td>0.763435</td>\n",
              "      <td>0.815241</td>\n",
              "      <td>0.85295</td>\n",
              "      <td>0.0399625</td>\n",
              "      <td>None</td>\n",
              "      <td>1</td>\n",
              "      <td>50</td>\n",
              "      <td>150</td>\n",
              "    </tr>\n",
              "    <tr>\n",
              "      <th>3</th>\n",
              "      <td>ExtraTreesRegressor</td>\n",
              "      <td>0.761919</td>\n",
              "      <td>0.814121</td>\n",
              "      <td>0.854474</td>\n",
              "      <td>0.0409505</td>\n",
              "      <td>None</td>\n",
              "      <td>1</td>\n",
              "      <td>50</td>\n",
              "      <td>50</td>\n",
              "    </tr>\n",
              "    <tr>\n",
              "      <th>27</th>\n",
              "      <td>ExtraTreesRegressor</td>\n",
              "      <td>0.761687</td>\n",
              "      <td>0.814075</td>\n",
              "      <td>0.854474</td>\n",
              "      <td>0.0410097</td>\n",
              "      <td>15</td>\n",
              "      <td>1</td>\n",
              "      <td>50</td>\n",
              "      <td>50</td>\n",
              "    </tr>\n",
              "    <tr>\n",
              "      <th>26</th>\n",
              "      <td>ExtraTreesRegressor</td>\n",
              "      <td>0.682884</td>\n",
              "      <td>0.809271</td>\n",
              "      <td>0.870693</td>\n",
              "      <td>0.068807</td>\n",
              "      <td>15</td>\n",
              "      <td>1</td>\n",
              "      <td>2</td>\n",
              "      <td>150</td>\n",
              "    </tr>\n",
              "    <tr>\n",
              "      <th>25</th>\n",
              "      <td>ExtraTreesRegressor</td>\n",
              "      <td>0.678529</td>\n",
              "      <td>0.807174</td>\n",
              "      <td>0.870031</td>\n",
              "      <td>0.0698698</td>\n",
              "      <td>15</td>\n",
              "      <td>1</td>\n",
              "      <td>2</td>\n",
              "      <td>100</td>\n",
              "    </tr>\n",
              "    <tr>\n",
              "      <th>2</th>\n",
              "      <td>ExtraTreesRegressor</td>\n",
              "      <td>0.669894</td>\n",
              "      <td>0.806349</td>\n",
              "      <td>0.870304</td>\n",
              "      <td>0.0735267</td>\n",
              "      <td>None</td>\n",
              "      <td>1</td>\n",
              "      <td>2</td>\n",
              "      <td>150</td>\n",
              "    </tr>\n",
              "    <tr>\n",
              "      <th>1</th>\n",
              "      <td>ExtraTreesRegressor</td>\n",
              "      <td>0.667553</td>\n",
              "      <td>0.804852</td>\n",
              "      <td>0.869188</td>\n",
              "      <td>0.0745849</td>\n",
              "      <td>None</td>\n",
              "      <td>1</td>\n",
              "      <td>2</td>\n",
              "      <td>100</td>\n",
              "    </tr>\n",
              "    <tr>\n",
              "      <th>24</th>\n",
              "      <td>ExtraTreesRegressor</td>\n",
              "      <td>0.685342</td>\n",
              "      <td>0.804533</td>\n",
              "      <td>0.86912</td>\n",
              "      <td>0.0668274</td>\n",
              "      <td>15</td>\n",
              "      <td>1</td>\n",
              "      <td>2</td>\n",
              "      <td>50</td>\n",
              "    </tr>\n",
              "    <tr>\n",
              "      <th>0</th>\n",
              "      <td>ExtraTreesRegressor</td>\n",
              "      <td>0.66558</td>\n",
              "      <td>0.801092</td>\n",
              "      <td>0.868532</td>\n",
              "      <td>0.0757551</td>\n",
              "      <td>None</td>\n",
              "      <td>1</td>\n",
              "      <td>2</td>\n",
              "      <td>50</td>\n",
              "    </tr>\n",
              "    <tr>\n",
              "      <th>16</th>\n",
              "      <td>ExtraTreesRegressor</td>\n",
              "      <td>0.709193</td>\n",
              "      <td>0.755973</td>\n",
              "      <td>0.792153</td>\n",
              "      <td>0.0334302</td>\n",
              "      <td>3</td>\n",
              "      <td>1</td>\n",
              "      <td>50</td>\n",
              "      <td>100</td>\n",
              "    </tr>\n",
              "    <tr>\n",
              "      <th>13</th>\n",
              "      <td>ExtraTreesRegressor</td>\n",
              "      <td>0.70078</td>\n",
              "      <td>0.753225</td>\n",
              "      <td>0.791223</td>\n",
              "      <td>0.0350863</td>\n",
              "      <td>3</td>\n",
              "      <td>1</td>\n",
              "      <td>2</td>\n",
              "      <td>100</td>\n",
              "    </tr>\n",
              "    <tr>\n",
              "      <th>17</th>\n",
              "      <td>ExtraTreesRegressor</td>\n",
              "      <td>0.703869</td>\n",
              "      <td>0.752585</td>\n",
              "      <td>0.791951</td>\n",
              "      <td>0.0348498</td>\n",
              "      <td>3</td>\n",
              "      <td>1</td>\n",
              "      <td>50</td>\n",
              "      <td>150</td>\n",
              "    </tr>\n",
              "    <tr>\n",
              "      <th>14</th>\n",
              "      <td>ExtraTreesRegressor</td>\n",
              "      <td>0.695865</td>\n",
              "      <td>0.750579</td>\n",
              "      <td>0.791985</td>\n",
              "      <td>0.0367584</td>\n",
              "      <td>3</td>\n",
              "      <td>1</td>\n",
              "      <td>2</td>\n",
              "      <td>150</td>\n",
              "    </tr>\n",
              "    <tr>\n",
              "      <th>15</th>\n",
              "      <td>ExtraTreesRegressor</td>\n",
              "      <td>0.699324</td>\n",
              "      <td>0.747642</td>\n",
              "      <td>0.783889</td>\n",
              "      <td>0.0332274</td>\n",
              "      <td>3</td>\n",
              "      <td>1</td>\n",
              "      <td>50</td>\n",
              "      <td>50</td>\n",
              "    </tr>\n",
              "    <tr>\n",
              "      <th>12</th>\n",
              "      <td>ExtraTreesRegressor</td>\n",
              "      <td>0.694101</td>\n",
              "      <td>0.745076</td>\n",
              "      <td>0.781537</td>\n",
              "      <td>0.0328463</td>\n",
              "      <td>3</td>\n",
              "      <td>1</td>\n",
              "      <td>2</td>\n",
              "      <td>50</td>\n",
              "    </tr>\n",
              "    <tr>\n",
              "      <th>10</th>\n",
              "      <td>ExtraTreesRegressor</td>\n",
              "      <td>0.670016</td>\n",
              "      <td>0.732637</td>\n",
              "      <td>0.778308</td>\n",
              "      <td>0.0472607</td>\n",
              "      <td>None</td>\n",
              "      <td>50</td>\n",
              "      <td>50</td>\n",
              "      <td>100</td>\n",
              "    </tr>\n",
              "    <tr>\n",
              "      <th>31</th>\n",
              "      <td>ExtraTreesRegressor</td>\n",
              "      <td>0.670016</td>\n",
              "      <td>0.732637</td>\n",
              "      <td>0.778308</td>\n",
              "      <td>0.0472607</td>\n",
              "      <td>15</td>\n",
              "      <td>50</td>\n",
              "      <td>2</td>\n",
              "      <td>100</td>\n",
              "    </tr>\n",
              "    <tr>\n",
              "      <th>34</th>\n",
              "      <td>ExtraTreesRegressor</td>\n",
              "      <td>0.670016</td>\n",
              "      <td>0.732637</td>\n",
              "      <td>0.778308</td>\n",
              "      <td>0.0472607</td>\n",
              "      <td>15</td>\n",
              "      <td>50</td>\n",
              "      <td>50</td>\n",
              "      <td>100</td>\n",
              "    </tr>\n",
              "    <tr>\n",
              "      <th>7</th>\n",
              "      <td>ExtraTreesRegressor</td>\n",
              "      <td>0.670016</td>\n",
              "      <td>0.732637</td>\n",
              "      <td>0.778308</td>\n",
              "      <td>0.0472607</td>\n",
              "      <td>None</td>\n",
              "      <td>50</td>\n",
              "      <td>2</td>\n",
              "      <td>100</td>\n",
              "    </tr>\n",
              "    <tr>\n",
              "      <th>33</th>\n",
              "      <td>ExtraTreesRegressor</td>\n",
              "      <td>0.669293</td>\n",
              "      <td>0.732433</td>\n",
              "      <td>0.778207</td>\n",
              "      <td>0.0467255</td>\n",
              "      <td>15</td>\n",
              "      <td>50</td>\n",
              "      <td>50</td>\n",
              "      <td>50</td>\n",
              "    </tr>\n",
              "    <tr>\n",
              "      <th>30</th>\n",
              "      <td>ExtraTreesRegressor</td>\n",
              "      <td>0.669293</td>\n",
              "      <td>0.732433</td>\n",
              "      <td>0.778207</td>\n",
              "      <td>0.0467255</td>\n",
              "      <td>15</td>\n",
              "      <td>50</td>\n",
              "      <td>2</td>\n",
              "      <td>50</td>\n",
              "    </tr>\n",
              "    <tr>\n",
              "      <th>9</th>\n",
              "      <td>ExtraTreesRegressor</td>\n",
              "      <td>0.669293</td>\n",
              "      <td>0.732433</td>\n",
              "      <td>0.778207</td>\n",
              "      <td>0.0467255</td>\n",
              "      <td>None</td>\n",
              "      <td>50</td>\n",
              "      <td>50</td>\n",
              "      <td>50</td>\n",
              "    </tr>\n",
              "    <tr>\n",
              "      <th>6</th>\n",
              "      <td>ExtraTreesRegressor</td>\n",
              "      <td>0.669293</td>\n",
              "      <td>0.732433</td>\n",
              "      <td>0.778207</td>\n",
              "      <td>0.0467255</td>\n",
              "      <td>None</td>\n",
              "      <td>50</td>\n",
              "      <td>2</td>\n",
              "      <td>50</td>\n",
              "    </tr>\n",
              "    <tr>\n",
              "      <th>32</th>\n",
              "      <td>ExtraTreesRegressor</td>\n",
              "      <td>0.667957</td>\n",
              "      <td>0.731272</td>\n",
              "      <td>0.777364</td>\n",
              "      <td>0.0476845</td>\n",
              "      <td>15</td>\n",
              "      <td>50</td>\n",
              "      <td>2</td>\n",
              "      <td>150</td>\n",
              "    </tr>\n",
              "    <tr>\n",
              "      <th>35</th>\n",
              "      <td>ExtraTreesRegressor</td>\n",
              "      <td>0.667957</td>\n",
              "      <td>0.731272</td>\n",
              "      <td>0.777364</td>\n",
              "      <td>0.0476845</td>\n",
              "      <td>15</td>\n",
              "      <td>50</td>\n",
              "      <td>50</td>\n",
              "      <td>150</td>\n",
              "    </tr>\n",
              "    <tr>\n",
              "      <th>11</th>\n",
              "      <td>ExtraTreesRegressor</td>\n",
              "      <td>0.667957</td>\n",
              "      <td>0.731272</td>\n",
              "      <td>0.777364</td>\n",
              "      <td>0.0476845</td>\n",
              "      <td>None</td>\n",
              "      <td>50</td>\n",
              "      <td>50</td>\n",
              "      <td>150</td>\n",
              "    </tr>\n",
              "    <tr>\n",
              "      <th>8</th>\n",
              "      <td>ExtraTreesRegressor</td>\n",
              "      <td>0.667957</td>\n",
              "      <td>0.731272</td>\n",
              "      <td>0.777364</td>\n",
              "      <td>0.0476845</td>\n",
              "      <td>None</td>\n",
              "      <td>50</td>\n",
              "      <td>2</td>\n",
              "      <td>150</td>\n",
              "    </tr>\n",
              "    <tr>\n",
              "      <th>22</th>\n",
              "      <td>ExtraTreesRegressor</td>\n",
              "      <td>0.655126</td>\n",
              "      <td>0.711486</td>\n",
              "      <td>0.752651</td>\n",
              "      <td>0.0428862</td>\n",
              "      <td>3</td>\n",
              "      <td>50</td>\n",
              "      <td>50</td>\n",
              "      <td>100</td>\n",
              "    </tr>\n",
              "    <tr>\n",
              "      <th>19</th>\n",
              "      <td>ExtraTreesRegressor</td>\n",
              "      <td>0.655126</td>\n",
              "      <td>0.711486</td>\n",
              "      <td>0.752651</td>\n",
              "      <td>0.0428862</td>\n",
              "      <td>3</td>\n",
              "      <td>50</td>\n",
              "      <td>2</td>\n",
              "      <td>100</td>\n",
              "    </tr>\n",
              "    <tr>\n",
              "      <th>23</th>\n",
              "      <td>ExtraTreesRegressor</td>\n",
              "      <td>0.652872</td>\n",
              "      <td>0.708259</td>\n",
              "      <td>0.750195</td>\n",
              "      <td>0.0432601</td>\n",
              "      <td>3</td>\n",
              "      <td>50</td>\n",
              "      <td>50</td>\n",
              "      <td>150</td>\n",
              "    </tr>\n",
              "    <tr>\n",
              "      <th>20</th>\n",
              "      <td>ExtraTreesRegressor</td>\n",
              "      <td>0.652872</td>\n",
              "      <td>0.708259</td>\n",
              "      <td>0.750195</td>\n",
              "      <td>0.0432601</td>\n",
              "      <td>3</td>\n",
              "      <td>50</td>\n",
              "      <td>2</td>\n",
              "      <td>150</td>\n",
              "    </tr>\n",
              "    <tr>\n",
              "      <th>21</th>\n",
              "      <td>ExtraTreesRegressor</td>\n",
              "      <td>0.649422</td>\n",
              "      <td>0.705293</td>\n",
              "      <td>0.742538</td>\n",
              "      <td>0.0446421</td>\n",
              "      <td>3</td>\n",
              "      <td>50</td>\n",
              "      <td>50</td>\n",
              "      <td>50</td>\n",
              "    </tr>\n",
              "    <tr>\n",
              "      <th>18</th>\n",
              "      <td>ExtraTreesRegressor</td>\n",
              "      <td>0.649422</td>\n",
              "      <td>0.705293</td>\n",
              "      <td>0.742538</td>\n",
              "      <td>0.0446421</td>\n",
              "      <td>3</td>\n",
              "      <td>50</td>\n",
              "      <td>2</td>\n",
              "      <td>50</td>\n",
              "    </tr>\n",
              "  </tbody>\n",
              "</table>\n",
              "</div>"
            ],
            "text/plain": [
              "              estimator min_score mean_score max_score  std_score  \\\n",
              "28  ExtraTreesRegressor  0.766093   0.815705  0.853566  0.0403492   \n",
              "4   ExtraTreesRegressor  0.765955   0.815677  0.853566   0.040383   \n",
              "29  ExtraTreesRegressor   0.76353   0.815268   0.85295  0.0399437   \n",
              "5   ExtraTreesRegressor  0.763435   0.815241   0.85295  0.0399625   \n",
              "3   ExtraTreesRegressor  0.761919   0.814121  0.854474  0.0409505   \n",
              "27  ExtraTreesRegressor  0.761687   0.814075  0.854474  0.0410097   \n",
              "26  ExtraTreesRegressor  0.682884   0.809271  0.870693   0.068807   \n",
              "25  ExtraTreesRegressor  0.678529   0.807174  0.870031  0.0698698   \n",
              "2   ExtraTreesRegressor  0.669894   0.806349  0.870304  0.0735267   \n",
              "1   ExtraTreesRegressor  0.667553   0.804852  0.869188  0.0745849   \n",
              "24  ExtraTreesRegressor  0.685342   0.804533   0.86912  0.0668274   \n",
              "0   ExtraTreesRegressor   0.66558   0.801092  0.868532  0.0757551   \n",
              "16  ExtraTreesRegressor  0.709193   0.755973  0.792153  0.0334302   \n",
              "13  ExtraTreesRegressor   0.70078   0.753225  0.791223  0.0350863   \n",
              "17  ExtraTreesRegressor  0.703869   0.752585  0.791951  0.0348498   \n",
              "14  ExtraTreesRegressor  0.695865   0.750579  0.791985  0.0367584   \n",
              "15  ExtraTreesRegressor  0.699324   0.747642  0.783889  0.0332274   \n",
              "12  ExtraTreesRegressor  0.694101   0.745076  0.781537  0.0328463   \n",
              "10  ExtraTreesRegressor  0.670016   0.732637  0.778308  0.0472607   \n",
              "31  ExtraTreesRegressor  0.670016   0.732637  0.778308  0.0472607   \n",
              "34  ExtraTreesRegressor  0.670016   0.732637  0.778308  0.0472607   \n",
              "7   ExtraTreesRegressor  0.670016   0.732637  0.778308  0.0472607   \n",
              "33  ExtraTreesRegressor  0.669293   0.732433  0.778207  0.0467255   \n",
              "30  ExtraTreesRegressor  0.669293   0.732433  0.778207  0.0467255   \n",
              "9   ExtraTreesRegressor  0.669293   0.732433  0.778207  0.0467255   \n",
              "6   ExtraTreesRegressor  0.669293   0.732433  0.778207  0.0467255   \n",
              "32  ExtraTreesRegressor  0.667957   0.731272  0.777364  0.0476845   \n",
              "35  ExtraTreesRegressor  0.667957   0.731272  0.777364  0.0476845   \n",
              "11  ExtraTreesRegressor  0.667957   0.731272  0.777364  0.0476845   \n",
              "8   ExtraTreesRegressor  0.667957   0.731272  0.777364  0.0476845   \n",
              "22  ExtraTreesRegressor  0.655126   0.711486  0.752651  0.0428862   \n",
              "19  ExtraTreesRegressor  0.655126   0.711486  0.752651  0.0428862   \n",
              "23  ExtraTreesRegressor  0.652872   0.708259  0.750195  0.0432601   \n",
              "20  ExtraTreesRegressor  0.652872   0.708259  0.750195  0.0432601   \n",
              "21  ExtraTreesRegressor  0.649422   0.705293  0.742538  0.0446421   \n",
              "18  ExtraTreesRegressor  0.649422   0.705293  0.742538  0.0446421   \n",
              "\n",
              "   model__max_depth model__min_samples_leaf model__min_samples_split  \\\n",
              "28               15                       1                       50   \n",
              "4              None                       1                       50   \n",
              "29               15                       1                       50   \n",
              "5              None                       1                       50   \n",
              "3              None                       1                       50   \n",
              "27               15                       1                       50   \n",
              "26               15                       1                        2   \n",
              "25               15                       1                        2   \n",
              "2              None                       1                        2   \n",
              "1              None                       1                        2   \n",
              "24               15                       1                        2   \n",
              "0              None                       1                        2   \n",
              "16                3                       1                       50   \n",
              "13                3                       1                        2   \n",
              "17                3                       1                       50   \n",
              "14                3                       1                        2   \n",
              "15                3                       1                       50   \n",
              "12                3                       1                        2   \n",
              "10             None                      50                       50   \n",
              "31               15                      50                        2   \n",
              "34               15                      50                       50   \n",
              "7              None                      50                        2   \n",
              "33               15                      50                       50   \n",
              "30               15                      50                        2   \n",
              "9              None                      50                       50   \n",
              "6              None                      50                        2   \n",
              "32               15                      50                        2   \n",
              "35               15                      50                       50   \n",
              "11             None                      50                       50   \n",
              "8              None                      50                        2   \n",
              "22                3                      50                       50   \n",
              "19                3                      50                        2   \n",
              "23                3                      50                       50   \n",
              "20                3                      50                        2   \n",
              "21                3                      50                       50   \n",
              "18                3                      50                        2   \n",
              "\n",
              "   model__n_estimators  \n",
              "28                 100  \n",
              "4                  100  \n",
              "29                 150  \n",
              "5                  150  \n",
              "3                   50  \n",
              "27                  50  \n",
              "26                 150  \n",
              "25                 100  \n",
              "2                  150  \n",
              "1                  100  \n",
              "24                  50  \n",
              "0                   50  \n",
              "16                 100  \n",
              "13                 100  \n",
              "17                 150  \n",
              "14                 150  \n",
              "15                  50  \n",
              "12                  50  \n",
              "10                 100  \n",
              "31                 100  \n",
              "34                 100  \n",
              "7                  100  \n",
              "33                  50  \n",
              "30                  50  \n",
              "9                   50  \n",
              "6                   50  \n",
              "32                 150  \n",
              "35                 150  \n",
              "11                 150  \n",
              "8                  150  \n",
              "22                 100  \n",
              "19                 100  \n",
              "23                 150  \n",
              "20                 150  \n",
              "21                  50  \n",
              "18                  50  "
            ]
          },
          "execution_count": 14,
          "metadata": {},
          "output_type": "execute_result"
        }
      ],
      "source": [
        "grid_search_summary, grid_search_pipelines = search.score_summary(sort_by='mean_score')\n",
        "grid_search_summary"
      ]
    },
    {
      "cell_type": "markdown",
      "metadata": {
        "id": "DWryh7BlA2df"
      },
      "source": [
        "Check the best model"
      ]
    },
    {
      "cell_type": "code",
      "execution_count": 15,
      "metadata": {
        "id": "QVWEmpSuA4C7"
      },
      "outputs": [
        {
          "data": {
            "text/plain": [
              "'ExtraTreesRegressor'"
            ]
          },
          "execution_count": 15,
          "metadata": {},
          "output_type": "execute_result"
        }
      ],
      "source": [
        "best_model = grid_search_summary.iloc[0,0]\n",
        "best_model"
      ]
    },
    {
      "cell_type": "markdown",
      "metadata": {
        "id": "7_jvnR4sZ8km"
      },
      "source": [
        "Parameters for best model"
      ]
    },
    {
      "cell_type": "code",
      "execution_count": 16,
      "metadata": {
        "id": "2my-LZFzZ-YD"
      },
      "outputs": [
        {
          "data": {
            "text/plain": [
              "{'model__max_depth': 15,\n",
              " 'model__min_samples_leaf': 1,\n",
              " 'model__min_samples_split': 50,\n",
              " 'model__n_estimators': 100}"
            ]
          },
          "execution_count": 16,
          "metadata": {},
          "output_type": "execute_result"
        }
      ],
      "source": [
        "best_parameters = grid_search_pipelines[best_model].best_params_\n",
        "best_parameters"
      ]
    },
    {
      "cell_type": "markdown",
      "metadata": {
        "id": "DgWXlprwaAW-"
      },
      "source": [
        "Define the best regressor, based on search"
      ]
    },
    {
      "cell_type": "code",
      "execution_count": 17,
      "metadata": {
        "id": "0OZ24jS0aAfP"
      },
      "outputs": [
        {
          "data": {
            "text/html": [
              "<style>#sk-container-id-1 {color: black;background-color: white;}#sk-container-id-1 pre{padding: 0;}#sk-container-id-1 div.sk-toggleable {background-color: white;}#sk-container-id-1 label.sk-toggleable__label {cursor: pointer;display: block;width: 100%;margin-bottom: 0;padding: 0.3em;box-sizing: border-box;text-align: center;}#sk-container-id-1 label.sk-toggleable__label-arrow:before {content: \"▸\";float: left;margin-right: 0.25em;color: #696969;}#sk-container-id-1 label.sk-toggleable__label-arrow:hover:before {color: black;}#sk-container-id-1 div.sk-estimator:hover label.sk-toggleable__label-arrow:before {color: black;}#sk-container-id-1 div.sk-toggleable__content {max-height: 0;max-width: 0;overflow: hidden;text-align: left;background-color: #f0f8ff;}#sk-container-id-1 div.sk-toggleable__content pre {margin: 0.2em;color: black;border-radius: 0.25em;background-color: #f0f8ff;}#sk-container-id-1 input.sk-toggleable__control:checked~div.sk-toggleable__content {max-height: 200px;max-width: 100%;overflow: auto;}#sk-container-id-1 input.sk-toggleable__control:checked~label.sk-toggleable__label-arrow:before {content: \"▾\";}#sk-container-id-1 div.sk-estimator input.sk-toggleable__control:checked~label.sk-toggleable__label {background-color: #d4ebff;}#sk-container-id-1 div.sk-label input.sk-toggleable__control:checked~label.sk-toggleable__label {background-color: #d4ebff;}#sk-container-id-1 input.sk-hidden--visually {border: 0;clip: rect(1px 1px 1px 1px);clip: rect(1px, 1px, 1px, 1px);height: 1px;margin: -1px;overflow: hidden;padding: 0;position: absolute;width: 1px;}#sk-container-id-1 div.sk-estimator {font-family: monospace;background-color: #f0f8ff;border: 1px dotted black;border-radius: 0.25em;box-sizing: border-box;margin-bottom: 0.5em;}#sk-container-id-1 div.sk-estimator:hover {background-color: #d4ebff;}#sk-container-id-1 div.sk-parallel-item::after {content: \"\";width: 100%;border-bottom: 1px solid gray;flex-grow: 1;}#sk-container-id-1 div.sk-label:hover label.sk-toggleable__label {background-color: #d4ebff;}#sk-container-id-1 div.sk-serial::before {content: \"\";position: absolute;border-left: 1px solid gray;box-sizing: border-box;top: 0;bottom: 0;left: 50%;z-index: 0;}#sk-container-id-1 div.sk-serial {display: flex;flex-direction: column;align-items: center;background-color: white;padding-right: 0.2em;padding-left: 0.2em;position: relative;}#sk-container-id-1 div.sk-item {position: relative;z-index: 1;}#sk-container-id-1 div.sk-parallel {display: flex;align-items: stretch;justify-content: center;background-color: white;position: relative;}#sk-container-id-1 div.sk-item::before, #sk-container-id-1 div.sk-parallel-item::before {content: \"\";position: absolute;border-left: 1px solid gray;box-sizing: border-box;top: 0;bottom: 0;left: 50%;z-index: -1;}#sk-container-id-1 div.sk-parallel-item {display: flex;flex-direction: column;z-index: 1;position: relative;background-color: white;}#sk-container-id-1 div.sk-parallel-item:first-child::after {align-self: flex-end;width: 50%;}#sk-container-id-1 div.sk-parallel-item:last-child::after {align-self: flex-start;width: 50%;}#sk-container-id-1 div.sk-parallel-item:only-child::after {width: 0;}#sk-container-id-1 div.sk-dashed-wrapped {border: 1px dashed gray;margin: 0 0.4em 0.5em 0.4em;box-sizing: border-box;padding-bottom: 0.4em;background-color: white;}#sk-container-id-1 div.sk-label label {font-family: monospace;font-weight: bold;display: inline-block;line-height: 1.2em;}#sk-container-id-1 div.sk-label-container {text-align: center;}#sk-container-id-1 div.sk-container {/* jupyter's `normalize.less` sets `[hidden] { display: none; }` but bootstrap.min.css set `[hidden] { display: none !important; }` so we also need the `!important` here to be able to override the default hidden behavior on the sphinx rendered scikit-learn.org. See: https://github.com/scikit-learn/scikit-learn/issues/21755 */display: inline-block !important;position: relative;}#sk-container-id-1 div.sk-text-repr-fallback {display: none;}</style><div id=\"sk-container-id-1\" class=\"sk-top-container\"><div class=\"sk-text-repr-fallback\"><pre>Pipeline(steps=[(&#x27;drop&#x27;,\n",
              "                 DropFeatures(features_to_drop=[&#x27;EnclosedPorch&#x27;, &#x27;GarageYrBlt&#x27;,\n",
              "                                                &#x27;WoodDeckSF&#x27;])),\n",
              "                (&#x27;mean&#x27;,\n",
              "                 MeanMedianImputer(imputation_method=&#x27;mean&#x27;,\n",
              "                                   variables=[&#x27;TotalBsmtSF&#x27;, &#x27;1stFlrSF&#x27;,\n",
              "                                              &#x27;2ndFlrSF&#x27;, &#x27;LotFrontage&#x27;,\n",
              "                                              &#x27;BedroomAbvGr&#x27;])),\n",
              "                (&#x27;median&#x27;,\n",
              "                 MeanMedianImputer(variables=[&#x27;MasVnrArea&#x27;, &#x27;2ndFlrSF&#x27;])),\n",
              "                (&#x27;categorical&#x27;,\n",
              "                 CategoricalImputer(fill_value=&#x27;Unf&#x27;,\n",
              "                                    va...\n",
              "                                       &#x27;MasVnrArea&#x27;, &#x27;OpenPorchSF&#x27;,\n",
              "                                       &#x27;TotalBsmtSF&#x27;, &#x27;1stFlrSF&#x27;,\n",
              "                                       &#x27;2ndFlrSF&#x27;])),\n",
              "                (&#x27;SmartCorrelatedSelection&#x27;,\n",
              "                 SmartCorrelatedSelection(method=&#x27;spearman&#x27;,\n",
              "                                          selection_method=&#x27;variance&#x27;)),\n",
              "                (&#x27;feat_scaling&#x27;, StandardScaler()),\n",
              "                (&#x27;feat_selection&#x27;,\n",
              "                 SelectFromModel(estimator=ExtraTreesRegressor(random_state=0))),\n",
              "                (&#x27;model&#x27;,\n",
              "                 ExtraTreesRegressor(max_depth=15, min_samples_split=50,\n",
              "                                     random_state=0))])</pre><b>In a Jupyter environment, please rerun this cell to show the HTML representation or trust the notebook. <br />On GitHub, the HTML representation is unable to render, please try loading this page with nbviewer.org.</b></div><div class=\"sk-container\" hidden><div class=\"sk-item sk-dashed-wrapped\"><div class=\"sk-label-container\"><div class=\"sk-label sk-toggleable\"><input class=\"sk-toggleable__control sk-hidden--visually\" id=\"sk-estimator-id-1\" type=\"checkbox\" ><label for=\"sk-estimator-id-1\" class=\"sk-toggleable__label sk-toggleable__label-arrow\">Pipeline</label><div class=\"sk-toggleable__content\"><pre>Pipeline(steps=[(&#x27;drop&#x27;,\n",
              "                 DropFeatures(features_to_drop=[&#x27;EnclosedPorch&#x27;, &#x27;GarageYrBlt&#x27;,\n",
              "                                                &#x27;WoodDeckSF&#x27;])),\n",
              "                (&#x27;mean&#x27;,\n",
              "                 MeanMedianImputer(imputation_method=&#x27;mean&#x27;,\n",
              "                                   variables=[&#x27;TotalBsmtSF&#x27;, &#x27;1stFlrSF&#x27;,\n",
              "                                              &#x27;2ndFlrSF&#x27;, &#x27;LotFrontage&#x27;,\n",
              "                                              &#x27;BedroomAbvGr&#x27;])),\n",
              "                (&#x27;median&#x27;,\n",
              "                 MeanMedianImputer(variables=[&#x27;MasVnrArea&#x27;, &#x27;2ndFlrSF&#x27;])),\n",
              "                (&#x27;categorical&#x27;,\n",
              "                 CategoricalImputer(fill_value=&#x27;Unf&#x27;,\n",
              "                                    va...\n",
              "                                       &#x27;MasVnrArea&#x27;, &#x27;OpenPorchSF&#x27;,\n",
              "                                       &#x27;TotalBsmtSF&#x27;, &#x27;1stFlrSF&#x27;,\n",
              "                                       &#x27;2ndFlrSF&#x27;])),\n",
              "                (&#x27;SmartCorrelatedSelection&#x27;,\n",
              "                 SmartCorrelatedSelection(method=&#x27;spearman&#x27;,\n",
              "                                          selection_method=&#x27;variance&#x27;)),\n",
              "                (&#x27;feat_scaling&#x27;, StandardScaler()),\n",
              "                (&#x27;feat_selection&#x27;,\n",
              "                 SelectFromModel(estimator=ExtraTreesRegressor(random_state=0))),\n",
              "                (&#x27;model&#x27;,\n",
              "                 ExtraTreesRegressor(max_depth=15, min_samples_split=50,\n",
              "                                     random_state=0))])</pre></div></div></div><div class=\"sk-serial\"><div class=\"sk-item\"><div class=\"sk-estimator sk-toggleable\"><input class=\"sk-toggleable__control sk-hidden--visually\" id=\"sk-estimator-id-2\" type=\"checkbox\" ><label for=\"sk-estimator-id-2\" class=\"sk-toggleable__label sk-toggleable__label-arrow\">DropFeatures</label><div class=\"sk-toggleable__content\"><pre>DropFeatures(features_to_drop=[&#x27;EnclosedPorch&#x27;, &#x27;GarageYrBlt&#x27;, &#x27;WoodDeckSF&#x27;])</pre></div></div></div><div class=\"sk-item\"><div class=\"sk-estimator sk-toggleable\"><input class=\"sk-toggleable__control sk-hidden--visually\" id=\"sk-estimator-id-3\" type=\"checkbox\" ><label for=\"sk-estimator-id-3\" class=\"sk-toggleable__label sk-toggleable__label-arrow\">MeanMedianImputer</label><div class=\"sk-toggleable__content\"><pre>MeanMedianImputer(imputation_method=&#x27;mean&#x27;,\n",
              "                  variables=[&#x27;TotalBsmtSF&#x27;, &#x27;1stFlrSF&#x27;, &#x27;2ndFlrSF&#x27;,\n",
              "                             &#x27;LotFrontage&#x27;, &#x27;BedroomAbvGr&#x27;])</pre></div></div></div><div class=\"sk-item\"><div class=\"sk-estimator sk-toggleable\"><input class=\"sk-toggleable__control sk-hidden--visually\" id=\"sk-estimator-id-4\" type=\"checkbox\" ><label for=\"sk-estimator-id-4\" class=\"sk-toggleable__label sk-toggleable__label-arrow\">MeanMedianImputer</label><div class=\"sk-toggleable__content\"><pre>MeanMedianImputer(variables=[&#x27;MasVnrArea&#x27;, &#x27;2ndFlrSF&#x27;])</pre></div></div></div><div class=\"sk-item\"><div class=\"sk-estimator sk-toggleable\"><input class=\"sk-toggleable__control sk-hidden--visually\" id=\"sk-estimator-id-5\" type=\"checkbox\" ><label for=\"sk-estimator-id-5\" class=\"sk-toggleable__label sk-toggleable__label-arrow\">CategoricalImputer</label><div class=\"sk-toggleable__content\"><pre>CategoricalImputer(fill_value=&#x27;Unf&#x27;, variables=[&#x27;GarageFinish&#x27;, &#x27;BsmtFinType1&#x27;])</pre></div></div></div><div class=\"sk-item\"><div class=\"sk-estimator sk-toggleable\"><input class=\"sk-toggleable__control sk-hidden--visually\" id=\"sk-estimator-id-6\" type=\"checkbox\" ><label for=\"sk-estimator-id-6\" class=\"sk-toggleable__label sk-toggleable__label-arrow\">OrdinalEncoder</label><div class=\"sk-toggleable__content\"><pre>OrdinalEncoder(encoding_method=&#x27;arbitrary&#x27;,\n",
              "               variables=[&#x27;BsmtExposure&#x27;, &#x27;BsmtFinType1&#x27;, &#x27;GarageFinish&#x27;,\n",
              "                          &#x27;KitchenQual&#x27;])</pre></div></div></div><div class=\"sk-item\"><div class=\"sk-estimator sk-toggleable\"><input class=\"sk-toggleable__control sk-hidden--visually\" id=\"sk-estimator-id-7\" type=\"checkbox\" ><label for=\"sk-estimator-id-7\" class=\"sk-toggleable__label sk-toggleable__label-arrow\">LogTransformer</label><div class=\"sk-toggleable__content\"><pre>LogTransformer(variables=[&#x27;GrLivArea&#x27;, &#x27;LotArea&#x27;, &#x27;LotFrontage&#x27;])</pre></div></div></div><div class=\"sk-item\"><div class=\"sk-estimator sk-toggleable\"><input class=\"sk-toggleable__control sk-hidden--visually\" id=\"sk-estimator-id-8\" type=\"checkbox\" ><label for=\"sk-estimator-id-8\" class=\"sk-toggleable__label sk-toggleable__label-arrow\">PowerTransformer</label><div class=\"sk-toggleable__content\"><pre>PowerTransformer(variables=[&#x27;GarageArea&#x27;, &#x27;MasVnrArea&#x27;, &#x27;OpenPorchSF&#x27;,\n",
              "                            &#x27;TotalBsmtSF&#x27;, &#x27;1stFlrSF&#x27;, &#x27;2ndFlrSF&#x27;])</pre></div></div></div><div class=\"sk-item\"><div class=\"sk-estimator sk-toggleable\"><input class=\"sk-toggleable__control sk-hidden--visually\" id=\"sk-estimator-id-9\" type=\"checkbox\" ><label for=\"sk-estimator-id-9\" class=\"sk-toggleable__label sk-toggleable__label-arrow\">Winsorizer</label><div class=\"sk-toggleable__content\"><pre>Winsorizer(capping_method=&#x27;iqr&#x27;, fold=1.5, tail=&#x27;both&#x27;,\n",
              "           variables=[&#x27;GarageArea&#x27;, &#x27;LotArea&#x27;, &#x27;LotFrontage&#x27;, &#x27;MasVnrArea&#x27;,\n",
              "                      &#x27;OpenPorchSF&#x27;, &#x27;TotalBsmtSF&#x27;, &#x27;1stFlrSF&#x27;, &#x27;2ndFlrSF&#x27;])</pre></div></div></div><div class=\"sk-item\"><div class=\"sk-estimator sk-toggleable\"><input class=\"sk-toggleable__control sk-hidden--visually\" id=\"sk-estimator-id-10\" type=\"checkbox\" ><label for=\"sk-estimator-id-10\" class=\"sk-toggleable__label sk-toggleable__label-arrow\">SmartCorrelatedSelection</label><div class=\"sk-toggleable__content\"><pre>SmartCorrelatedSelection(method=&#x27;spearman&#x27;, selection_method=&#x27;variance&#x27;)</pre></div></div></div><div class=\"sk-item\"><div class=\"sk-estimator sk-toggleable\"><input class=\"sk-toggleable__control sk-hidden--visually\" id=\"sk-estimator-id-11\" type=\"checkbox\" ><label for=\"sk-estimator-id-11\" class=\"sk-toggleable__label sk-toggleable__label-arrow\">StandardScaler</label><div class=\"sk-toggleable__content\"><pre>StandardScaler()</pre></div></div></div><div class=\"sk-item sk-dashed-wrapped\"><div class=\"sk-label-container\"><div class=\"sk-label sk-toggleable\"><input class=\"sk-toggleable__control sk-hidden--visually\" id=\"sk-estimator-id-12\" type=\"checkbox\" ><label for=\"sk-estimator-id-12\" class=\"sk-toggleable__label sk-toggleable__label-arrow\">feat_selection: SelectFromModel</label><div class=\"sk-toggleable__content\"><pre>SelectFromModel(estimator=ExtraTreesRegressor(random_state=0))</pre></div></div></div><div class=\"sk-parallel\"><div class=\"sk-parallel-item\"><div class=\"sk-item\"><div class=\"sk-label-container\"><div class=\"sk-label sk-toggleable\"><input class=\"sk-toggleable__control sk-hidden--visually\" id=\"sk-estimator-id-13\" type=\"checkbox\" ><label for=\"sk-estimator-id-13\" class=\"sk-toggleable__label sk-toggleable__label-arrow\">estimator: ExtraTreesRegressor</label><div class=\"sk-toggleable__content\"><pre>ExtraTreesRegressor(random_state=0)</pre></div></div></div><div class=\"sk-serial\"><div class=\"sk-item\"><div class=\"sk-estimator sk-toggleable\"><input class=\"sk-toggleable__control sk-hidden--visually\" id=\"sk-estimator-id-14\" type=\"checkbox\" ><label for=\"sk-estimator-id-14\" class=\"sk-toggleable__label sk-toggleable__label-arrow\">ExtraTreesRegressor</label><div class=\"sk-toggleable__content\"><pre>ExtraTreesRegressor(random_state=0)</pre></div></div></div></div></div></div></div></div><div class=\"sk-item\"><div class=\"sk-estimator sk-toggleable\"><input class=\"sk-toggleable__control sk-hidden--visually\" id=\"sk-estimator-id-15\" type=\"checkbox\" ><label for=\"sk-estimator-id-15\" class=\"sk-toggleable__label sk-toggleable__label-arrow\">ExtraTreesRegressor</label><div class=\"sk-toggleable__content\"><pre>ExtraTreesRegressor(max_depth=15, min_samples_split=50, random_state=0)</pre></div></div></div></div></div></div></div>"
            ],
            "text/plain": [
              "Pipeline(steps=[('drop',\n",
              "                 DropFeatures(features_to_drop=['EnclosedPorch', 'GarageYrBlt',\n",
              "                                                'WoodDeckSF'])),\n",
              "                ('mean',\n",
              "                 MeanMedianImputer(imputation_method='mean',\n",
              "                                   variables=['TotalBsmtSF', '1stFlrSF',\n",
              "                                              '2ndFlrSF', 'LotFrontage',\n",
              "                                              'BedroomAbvGr'])),\n",
              "                ('median',\n",
              "                 MeanMedianImputer(variables=['MasVnrArea', '2ndFlrSF'])),\n",
              "                ('categorical',\n",
              "                 CategoricalImputer(fill_value='Unf',\n",
              "                                    va...\n",
              "                                       'MasVnrArea', 'OpenPorchSF',\n",
              "                                       'TotalBsmtSF', '1stFlrSF',\n",
              "                                       '2ndFlrSF'])),\n",
              "                ('SmartCorrelatedSelection',\n",
              "                 SmartCorrelatedSelection(method='spearman',\n",
              "                                          selection_method='variance')),\n",
              "                ('feat_scaling', StandardScaler()),\n",
              "                ('feat_selection',\n",
              "                 SelectFromModel(estimator=ExtraTreesRegressor(random_state=0))),\n",
              "                ('model',\n",
              "                 ExtraTreesRegressor(max_depth=15, min_samples_split=50,\n",
              "                                     random_state=0))])"
            ]
          },
          "execution_count": 17,
          "metadata": {},
          "output_type": "execute_result"
        }
      ],
      "source": [
        "best_regressor_pipeline = grid_search_pipelines[best_model].best_estimator_\n",
        "best_regressor_pipeline"
      ]
    },
    {
      "cell_type": "markdown",
      "metadata": {
        "id": "I9uT2XmaKISR"
      },
      "source": [
        "## Assess feature importance"
      ]
    },
    {
      "cell_type": "code",
      "execution_count": 18,
      "metadata": {
        "id": "-m6NUUa0KFQX"
      },
      "outputs": [
        {
          "name": "stdout",
          "output_type": "stream",
          "text": [
            "* These are the 5 most important features in descending order. The model was trained on them: \n",
            "['OverallQual', 'GrLivArea', 'GarageArea', 'YearBuilt', 'TotalBsmtSF']\n"
          ]
        },
        {
          "data": {
            "image/png": "[encoded data removed]",
            "text/plain": [
              "<Figure size 432x288 with 1 Axes>"
            ]
          },
          "metadata": {},
          "output_type": "display_data"
        }
      ],
      "source": [
        "import matplotlib.pyplot as plt\n",
        "import seaborn as sns\n",
        "sns.set_style('whitegrid')\n",
        "\n",
        "data_cleaning_feat_eng_steps = 9 # how many data cleaning and feature engineering does your pipeline have?\n",
        "columns_after_data_cleaning_feat_eng = (Pipeline(best_regressor_pipeline.steps[:data_cleaning_feat_eng_steps]).transform(X_train).columns)\n",
        "\n",
        "best_features = columns_after_data_cleaning_feat_eng[best_regressor_pipeline['feat_selection'].get_support()].to_list()\n",
        "\n",
        "# create DataFrame to display feature importance\n",
        "df_feature_importance = (pd.DataFrame(data={\n",
        "          'Feature': columns_after_data_cleaning_feat_eng[best_regressor_pipeline['feat_selection'].get_support()],\n",
        "          'Importance': best_regressor_pipeline['model'].feature_importances_})\n",
        "  .sort_values(by='Importance', ascending=False)\n",
        "  )\n",
        "\n",
        "# Most important features statement and plot\n",
        "print(f\"* These are the {len(best_features)} most important features in descending order. \"\n",
        "      f\"The model was trained on them: \\n{df_feature_importance['Feature'].to_list()}\")\n",
        "\n",
        "df_feature_importance.plot(kind='bar',x='Feature',y='Importance')\n",
        "plt.show()"
      ]
    },
    {
      "cell_type": "markdown",
      "metadata": {
        "id": "QzNyQirSKJj6"
      },
      "source": [
        "## Evaluate on Train and Test Sets"
      ]
    },
    {
      "cell_type": "code",
      "execution_count": 19,
      "metadata": {
        "id": "5pBm_vx8BO9s"
      },
      "outputs": [],
      "source": [
        "from sklearn.metrics import r2_score, mean_squared_error, mean_absolute_error \n",
        "import numpy as np\n",
        "\n",
        "def regression_performance(X_train, y_train, X_test, y_test,pipeline):\n",
        "\tprint(\"Model Evaluation \\n\")\n",
        "\tprint(\"* Train Set\")\n",
        "\tregression_evaluation(X_train,y_train,pipeline)\n",
        "\tprint(\"* Test Set\")\n",
        "\tregression_evaluation(X_test,y_test,pipeline)\n",
        "\n",
        "def regression_evaluation(X,y,pipeline):\n",
        "  prediction = pipeline.predict(X)\n",
        "  print('R2 Score:', r2_score(y, prediction).round(3))  \n",
        "  print('Mean Absolute Error:', mean_absolute_error(y, prediction).round(3))  \n",
        "  print('Mean Squared Error:', mean_squared_error(y, prediction).round(3))  \n",
        "  print('Root Mean Squared Error:', np.sqrt(mean_squared_error(y, prediction)).round(3))\n",
        "  print(\"\\n\")\n",
        "\n",
        "\n",
        "def regression_evaluation_plots(X_train, y_train, X_test, y_test,pipeline, alpha_scatter=0.5):\n",
        "  pred_train = pipeline.predict(X_train)\n",
        "  pred_test = pipeline.predict(X_test)\n",
        "\n",
        "\n",
        "  fig, axes = plt.subplots(nrows=1, ncols=2, figsize=(12,6))\n",
        "  sns.scatterplot(x=y_train, y=pred_train, alpha=alpha_scatter, ax=axes[0])\n",
        "  sns.lineplot(x=y_train , y=y_train, color='red', ax=axes[0])\n",
        "  axes[0].set_xlabel(\"Actual\")\n",
        "  axes[0].set_ylabel(\"Predictions\")\n",
        "  axes[0].set_title(\"Train Set\")\n",
        "\n",
        "  sns.scatterplot(x=y_test, y=pred_test, alpha=alpha_scatter, ax=axes[1])\n",
        "  sns.lineplot(x=y_test, y=y_test, color='red', ax=axes[1])\n",
        "  axes[1].set_xlabel(\"Actual\")\n",
        "  axes[1].set_ylabel(\"Predictions\")\n",
        "  axes[1].set_title(\"Test Set\")\n",
        "  plt.savefig(f'docs/plots/regression_performance.png', bbox_inches='tight')  \n",
        "  plt.show()"
      ]
    },
    {
      "cell_type": "markdown",
      "metadata": {
        "id": "tV-W5nYyBPdk"
      },
      "source": [
        "##### Evaluate Performance\n",
        "\n",
        "* Performance goal of the predictions:\n",
        "    * We agreed with the client an R2 score of at least 0.75 on the train set as well as on the test set.\n"
      ]
    },
    {
      "cell_type": "code",
      "execution_count": 20,
      "metadata": {
        "id": "EgBgrKJ5KFcX"
      },
      "outputs": [
        {
          "name": "stdout",
          "output_type": "stream",
          "text": [
            "Model Evaluation \n",
            "\n",
            "* Train Set\n",
            "R2 Score: 0.842\n",
            "Mean Absolute Error: 19655.097\n",
            "Mean Squared Error: 972578369.06\n",
            "Root Mean Squared Error: 31186.189\n",
            "\n",
            "\n",
            "* Test Set\n",
            "R2 Score: 0.772\n",
            "Mean Absolute Error: 21584.795\n",
            "Mean Squared Error: 1572799019.106\n",
            "Root Mean Squared Error: 39658.53\n",
            "\n",
            "\n"
          ]
        },
        {
          "data": {
            "image/png": "[encoded data removed]",
            "text/plain": [
              "<Figure size 864x432 with 2 Axes>"
            ]
          },
          "metadata": {},
          "output_type": "display_data"
        }
      ],
      "source": [
        "regression_performance(X_train, y_train, X_test, y_test,best_regressor_pipeline)\n",
        "regression_evaluation_plots(X_train, y_train, X_test, y_test, best_regressor_pipeline)"
      ]
    },
    {
      "cell_type": "markdown",
      "metadata": {
        "id": "mQ3u0TodDdOZ"
      },
      "source": [
        "# Pipeline"
      ]
    },
    {
      "cell_type": "markdown",
      "metadata": {
        "id": "FE5va8Cr-CCy"
      },
      "source": [
        "* Regression"
      ]
    },
    {
      "cell_type": "markdown",
      "metadata": {
        "id": "sQR54xeCbIAH"
      },
      "source": [
        "* The regressor pipeline reached the expected performance threshold (0.75 R2 score) for train and test set.\n",
        "  \n",
        "  * R2 for the train and test sets are 0.84 and 0.77 respectively.\n",
        "  * So our model successfully meets the requirement."
      ]
    },
    {
      "cell_type": "code",
      "execution_count": 21,
      "metadata": {},
      "outputs": [
        {
          "data": {
            "text/html": [
              "<style>#sk-container-id-2 {color: black;background-color: white;}#sk-container-id-2 pre{padding: 0;}#sk-container-id-2 div.sk-toggleable {background-color: white;}#sk-container-id-2 label.sk-toggleable__label {cursor: pointer;display: block;width: 100%;margin-bottom: 0;padding: 0.3em;box-sizing: border-box;text-align: center;}#sk-container-id-2 label.sk-toggleable__label-arrow:before {content: \"▸\";float: left;margin-right: 0.25em;color: #696969;}#sk-container-id-2 label.sk-toggleable__label-arrow:hover:before {color: black;}#sk-container-id-2 div.sk-estimator:hover label.sk-toggleable__label-arrow:before {color: black;}#sk-container-id-2 div.sk-toggleable__content {max-height: 0;max-width: 0;overflow: hidden;text-align: left;background-color: #f0f8ff;}#sk-container-id-2 div.sk-toggleable__content pre {margin: 0.2em;color: black;border-radius: 0.25em;background-color: #f0f8ff;}#sk-container-id-2 input.sk-toggleable__control:checked~div.sk-toggleable__content {max-height: 200px;max-width: 100%;overflow: auto;}#sk-container-id-2 input.sk-toggleable__control:checked~label.sk-toggleable__label-arrow:before {content: \"▾\";}#sk-container-id-2 div.sk-estimator input.sk-toggleable__control:checked~label.sk-toggleable__label {background-color: #d4ebff;}#sk-container-id-2 div.sk-label input.sk-toggleable__control:checked~label.sk-toggleable__label {background-color: #d4ebff;}#sk-container-id-2 input.sk-hidden--visually {border: 0;clip: rect(1px 1px 1px 1px);clip: rect(1px, 1px, 1px, 1px);height: 1px;margin: -1px;overflow: hidden;padding: 0;position: absolute;width: 1px;}#sk-container-id-2 div.sk-estimator {font-family: monospace;background-color: #f0f8ff;border: 1px dotted black;border-radius: 0.25em;box-sizing: border-box;margin-bottom: 0.5em;}#sk-container-id-2 div.sk-estimator:hover {background-color: #d4ebff;}#sk-container-id-2 div.sk-parallel-item::after {content: \"\";width: 100%;border-bottom: 1px solid gray;flex-grow: 1;}#sk-container-id-2 div.sk-label:hover label.sk-toggleable__label {background-color: #d4ebff;}#sk-container-id-2 div.sk-serial::before {content: \"\";position: absolute;border-left: 1px solid gray;box-sizing: border-box;top: 0;bottom: 0;left: 50%;z-index: 0;}#sk-container-id-2 div.sk-serial {display: flex;flex-direction: column;align-items: center;background-color: white;padding-right: 0.2em;padding-left: 0.2em;position: relative;}#sk-container-id-2 div.sk-item {position: relative;z-index: 1;}#sk-container-id-2 div.sk-parallel {display: flex;align-items: stretch;justify-content: center;background-color: white;position: relative;}#sk-container-id-2 div.sk-item::before, #sk-container-id-2 div.sk-parallel-item::before {content: \"\";position: absolute;border-left: 1px solid gray;box-sizing: border-box;top: 0;bottom: 0;left: 50%;z-index: -1;}#sk-container-id-2 div.sk-parallel-item {display: flex;flex-direction: column;z-index: 1;position: relative;background-color: white;}#sk-container-id-2 div.sk-parallel-item:first-child::after {align-self: flex-end;width: 50%;}#sk-container-id-2 div.sk-parallel-item:last-child::after {align-self: flex-start;width: 50%;}#sk-container-id-2 div.sk-parallel-item:only-child::after {width: 0;}#sk-container-id-2 div.sk-dashed-wrapped {border: 1px dashed gray;margin: 0 0.4em 0.5em 0.4em;box-sizing: border-box;padding-bottom: 0.4em;background-color: white;}#sk-container-id-2 div.sk-label label {font-family: monospace;font-weight: bold;display: inline-block;line-height: 1.2em;}#sk-container-id-2 div.sk-label-container {text-align: center;}#sk-container-id-2 div.sk-container {/* jupyter's `normalize.less` sets `[hidden] { display: none; }` but bootstrap.min.css set `[hidden] { display: none !important; }` so we also need the `!important` here to be able to override the default hidden behavior on the sphinx rendered scikit-learn.org. See: https://github.com/scikit-learn/scikit-learn/issues/21755 */display: inline-block !important;position: relative;}#sk-container-id-2 div.sk-text-repr-fallback {display: none;}</style><div id=\"sk-container-id-2\" class=\"sk-top-container\"><div class=\"sk-text-repr-fallback\"><pre>Pipeline(steps=[(&#x27;drop&#x27;,\n",
              "                 DropFeatures(features_to_drop=[&#x27;EnclosedPorch&#x27;, &#x27;GarageYrBlt&#x27;,\n",
              "                                                &#x27;WoodDeckSF&#x27;])),\n",
              "                (&#x27;mean&#x27;,\n",
              "                 MeanMedianImputer(imputation_method=&#x27;mean&#x27;,\n",
              "                                   variables=[&#x27;TotalBsmtSF&#x27;, &#x27;1stFlrSF&#x27;,\n",
              "                                              &#x27;2ndFlrSF&#x27;, &#x27;LotFrontage&#x27;,\n",
              "                                              &#x27;BedroomAbvGr&#x27;])),\n",
              "                (&#x27;median&#x27;,\n",
              "                 MeanMedianImputer(variables=[&#x27;MasVnrArea&#x27;, &#x27;2ndFlrSF&#x27;])),\n",
              "                (&#x27;categorical&#x27;,\n",
              "                 CategoricalImputer(fill_value=&#x27;Unf&#x27;,\n",
              "                                    va...\n",
              "                                       &#x27;MasVnrArea&#x27;, &#x27;OpenPorchSF&#x27;,\n",
              "                                       &#x27;TotalBsmtSF&#x27;, &#x27;1stFlrSF&#x27;,\n",
              "                                       &#x27;2ndFlrSF&#x27;])),\n",
              "                (&#x27;SmartCorrelatedSelection&#x27;,\n",
              "                 SmartCorrelatedSelection(method=&#x27;spearman&#x27;,\n",
              "                                          selection_method=&#x27;variance&#x27;)),\n",
              "                (&#x27;feat_scaling&#x27;, StandardScaler()),\n",
              "                (&#x27;feat_selection&#x27;,\n",
              "                 SelectFromModel(estimator=ExtraTreesRegressor(random_state=0))),\n",
              "                (&#x27;model&#x27;,\n",
              "                 ExtraTreesRegressor(max_depth=15, min_samples_split=50,\n",
              "                                     random_state=0))])</pre><b>In a Jupyter environment, please rerun this cell to show the HTML representation or trust the notebook. <br />On GitHub, the HTML representation is unable to render, please try loading this page with nbviewer.org.</b></div><div class=\"sk-container\" hidden><div class=\"sk-item sk-dashed-wrapped\"><div class=\"sk-label-container\"><div class=\"sk-label sk-toggleable\"><input class=\"sk-toggleable__control sk-hidden--visually\" id=\"sk-estimator-id-16\" type=\"checkbox\" ><label for=\"sk-estimator-id-16\" class=\"sk-toggleable__label sk-toggleable__label-arrow\">Pipeline</label><div class=\"sk-toggleable__content\"><pre>Pipeline(steps=[(&#x27;drop&#x27;,\n",
              "                 DropFeatures(features_to_drop=[&#x27;EnclosedPorch&#x27;, &#x27;GarageYrBlt&#x27;,\n",
              "                                                &#x27;WoodDeckSF&#x27;])),\n",
              "                (&#x27;mean&#x27;,\n",
              "                 MeanMedianImputer(imputation_method=&#x27;mean&#x27;,\n",
              "                                   variables=[&#x27;TotalBsmtSF&#x27;, &#x27;1stFlrSF&#x27;,\n",
              "                                              &#x27;2ndFlrSF&#x27;, &#x27;LotFrontage&#x27;,\n",
              "                                              &#x27;BedroomAbvGr&#x27;])),\n",
              "                (&#x27;median&#x27;,\n",
              "                 MeanMedianImputer(variables=[&#x27;MasVnrArea&#x27;, &#x27;2ndFlrSF&#x27;])),\n",
              "                (&#x27;categorical&#x27;,\n",
              "                 CategoricalImputer(fill_value=&#x27;Unf&#x27;,\n",
              "                                    va...\n",
              "                                       &#x27;MasVnrArea&#x27;, &#x27;OpenPorchSF&#x27;,\n",
              "                                       &#x27;TotalBsmtSF&#x27;, &#x27;1stFlrSF&#x27;,\n",
              "                                       &#x27;2ndFlrSF&#x27;])),\n",
              "                (&#x27;SmartCorrelatedSelection&#x27;,\n",
              "                 SmartCorrelatedSelection(method=&#x27;spearman&#x27;,\n",
              "                                          selection_method=&#x27;variance&#x27;)),\n",
              "                (&#x27;feat_scaling&#x27;, StandardScaler()),\n",
              "                (&#x27;feat_selection&#x27;,\n",
              "                 SelectFromModel(estimator=ExtraTreesRegressor(random_state=0))),\n",
              "                (&#x27;model&#x27;,\n",
              "                 ExtraTreesRegressor(max_depth=15, min_samples_split=50,\n",
              "                                     random_state=0))])</pre></div></div></div><div class=\"sk-serial\"><div class=\"sk-item\"><div class=\"sk-estimator sk-toggleable\"><input class=\"sk-toggleable__control sk-hidden--visually\" id=\"sk-estimator-id-17\" type=\"checkbox\" ><label for=\"sk-estimator-id-17\" class=\"sk-toggleable__label sk-toggleable__label-arrow\">DropFeatures</label><div class=\"sk-toggleable__content\"><pre>DropFeatures(features_to_drop=[&#x27;EnclosedPorch&#x27;, &#x27;GarageYrBlt&#x27;, &#x27;WoodDeckSF&#x27;])</pre></div></div></div><div class=\"sk-item\"><div class=\"sk-estimator sk-toggleable\"><input class=\"sk-toggleable__control sk-hidden--visually\" id=\"sk-estimator-id-18\" type=\"checkbox\" ><label for=\"sk-estimator-id-18\" class=\"sk-toggleable__label sk-toggleable__label-arrow\">MeanMedianImputer</label><div class=\"sk-toggleable__content\"><pre>MeanMedianImputer(imputation_method=&#x27;mean&#x27;,\n",
              "                  variables=[&#x27;TotalBsmtSF&#x27;, &#x27;1stFlrSF&#x27;, &#x27;2ndFlrSF&#x27;,\n",
              "                             &#x27;LotFrontage&#x27;, &#x27;BedroomAbvGr&#x27;])</pre></div></div></div><div class=\"sk-item\"><div class=\"sk-estimator sk-toggleable\"><input class=\"sk-toggleable__control sk-hidden--visually\" id=\"sk-estimator-id-19\" type=\"checkbox\" ><label for=\"sk-estimator-id-19\" class=\"sk-toggleable__label sk-toggleable__label-arrow\">MeanMedianImputer</label><div class=\"sk-toggleable__content\"><pre>MeanMedianImputer(variables=[&#x27;MasVnrArea&#x27;, &#x27;2ndFlrSF&#x27;])</pre></div></div></div><div class=\"sk-item\"><div class=\"sk-estimator sk-toggleable\"><input class=\"sk-toggleable__control sk-hidden--visually\" id=\"sk-estimator-id-20\" type=\"checkbox\" ><label for=\"sk-estimator-id-20\" class=\"sk-toggleable__label sk-toggleable__label-arrow\">CategoricalImputer</label><div class=\"sk-toggleable__content\"><pre>CategoricalImputer(fill_value=&#x27;Unf&#x27;, variables=[&#x27;GarageFinish&#x27;, &#x27;BsmtFinType1&#x27;])</pre></div></div></div><div class=\"sk-item\"><div class=\"sk-estimator sk-toggleable\"><input class=\"sk-toggleable__control sk-hidden--visually\" id=\"sk-estimator-id-21\" type=\"checkbox\" ><label for=\"sk-estimator-id-21\" class=\"sk-toggleable__label sk-toggleable__label-arrow\">OrdinalEncoder</label><div class=\"sk-toggleable__content\"><pre>OrdinalEncoder(encoding_method=&#x27;arbitrary&#x27;,\n",
              "               variables=[&#x27;BsmtExposure&#x27;, &#x27;BsmtFinType1&#x27;, &#x27;GarageFinish&#x27;,\n",
              "                          &#x27;KitchenQual&#x27;])</pre></div></div></div><div class=\"sk-item\"><div class=\"sk-estimator sk-toggleable\"><input class=\"sk-toggleable__control sk-hidden--visually\" id=\"sk-estimator-id-22\" type=\"checkbox\" ><label for=\"sk-estimator-id-22\" class=\"sk-toggleable__label sk-toggleable__label-arrow\">LogTransformer</label><div class=\"sk-toggleable__content\"><pre>LogTransformer(variables=[&#x27;GrLivArea&#x27;, &#x27;LotArea&#x27;, &#x27;LotFrontage&#x27;])</pre></div></div></div><div class=\"sk-item\"><div class=\"sk-estimator sk-toggleable\"><input class=\"sk-toggleable__control sk-hidden--visually\" id=\"sk-estimator-id-23\" type=\"checkbox\" ><label for=\"sk-estimator-id-23\" class=\"sk-toggleable__label sk-toggleable__label-arrow\">PowerTransformer</label><div class=\"sk-toggleable__content\"><pre>PowerTransformer(variables=[&#x27;GarageArea&#x27;, &#x27;MasVnrArea&#x27;, &#x27;OpenPorchSF&#x27;,\n",
              "                            &#x27;TotalBsmtSF&#x27;, &#x27;1stFlrSF&#x27;, &#x27;2ndFlrSF&#x27;])</pre></div></div></div><div class=\"sk-item\"><div class=\"sk-estimator sk-toggleable\"><input class=\"sk-toggleable__control sk-hidden--visually\" id=\"sk-estimator-id-24\" type=\"checkbox\" ><label for=\"sk-estimator-id-24\" class=\"sk-toggleable__label sk-toggleable__label-arrow\">Winsorizer</label><div class=\"sk-toggleable__content\"><pre>Winsorizer(capping_method=&#x27;iqr&#x27;, fold=1.5, tail=&#x27;both&#x27;,\n",
              "           variables=[&#x27;GarageArea&#x27;, &#x27;LotArea&#x27;, &#x27;LotFrontage&#x27;, &#x27;MasVnrArea&#x27;,\n",
              "                      &#x27;OpenPorchSF&#x27;, &#x27;TotalBsmtSF&#x27;, &#x27;1stFlrSF&#x27;, &#x27;2ndFlrSF&#x27;])</pre></div></div></div><div class=\"sk-item\"><div class=\"sk-estimator sk-toggleable\"><input class=\"sk-toggleable__control sk-hidden--visually\" id=\"sk-estimator-id-25\" type=\"checkbox\" ><label for=\"sk-estimator-id-25\" class=\"sk-toggleable__label sk-toggleable__label-arrow\">SmartCorrelatedSelection</label><div class=\"sk-toggleable__content\"><pre>SmartCorrelatedSelection(method=&#x27;spearman&#x27;, selection_method=&#x27;variance&#x27;)</pre></div></div></div><div class=\"sk-item\"><div class=\"sk-estimator sk-toggleable\"><input class=\"sk-toggleable__control sk-hidden--visually\" id=\"sk-estimator-id-26\" type=\"checkbox\" ><label for=\"sk-estimator-id-26\" class=\"sk-toggleable__label sk-toggleable__label-arrow\">StandardScaler</label><div class=\"sk-toggleable__content\"><pre>StandardScaler()</pre></div></div></div><div class=\"sk-item sk-dashed-wrapped\"><div class=\"sk-label-container\"><div class=\"sk-label sk-toggleable\"><input class=\"sk-toggleable__control sk-hidden--visually\" id=\"sk-estimator-id-27\" type=\"checkbox\" ><label for=\"sk-estimator-id-27\" class=\"sk-toggleable__label sk-toggleable__label-arrow\">feat_selection: SelectFromModel</label><div class=\"sk-toggleable__content\"><pre>SelectFromModel(estimator=ExtraTreesRegressor(random_state=0))</pre></div></div></div><div class=\"sk-parallel\"><div class=\"sk-parallel-item\"><div class=\"sk-item\"><div class=\"sk-label-container\"><div class=\"sk-label sk-toggleable\"><input class=\"sk-toggleable__control sk-hidden--visually\" id=\"sk-estimator-id-28\" type=\"checkbox\" ><label for=\"sk-estimator-id-28\" class=\"sk-toggleable__label sk-toggleable__label-arrow\">estimator: ExtraTreesRegressor</label><div class=\"sk-toggleable__content\"><pre>ExtraTreesRegressor(random_state=0)</pre></div></div></div><div class=\"sk-serial\"><div class=\"sk-item\"><div class=\"sk-estimator sk-toggleable\"><input class=\"sk-toggleable__control sk-hidden--visually\" id=\"sk-estimator-id-29\" type=\"checkbox\" ><label for=\"sk-estimator-id-29\" class=\"sk-toggleable__label sk-toggleable__label-arrow\">ExtraTreesRegressor</label><div class=\"sk-toggleable__content\"><pre>ExtraTreesRegressor(random_state=0)</pre></div></div></div></div></div></div></div></div><div class=\"sk-item\"><div class=\"sk-estimator sk-toggleable\"><input class=\"sk-toggleable__control sk-hidden--visually\" id=\"sk-estimator-id-30\" type=\"checkbox\" ><label for=\"sk-estimator-id-30\" class=\"sk-toggleable__label sk-toggleable__label-arrow\">ExtraTreesRegressor</label><div class=\"sk-toggleable__content\"><pre>ExtraTreesRegressor(max_depth=15, min_samples_split=50, random_state=0)</pre></div></div></div></div></div></div></div>"
            ],
            "text/plain": [
              "Pipeline(steps=[('drop',\n",
              "                 DropFeatures(features_to_drop=['EnclosedPorch', 'GarageYrBlt',\n",
              "                                                'WoodDeckSF'])),\n",
              "                ('mean',\n",
              "                 MeanMedianImputer(imputation_method='mean',\n",
              "                                   variables=['TotalBsmtSF', '1stFlrSF',\n",
              "                                              '2ndFlrSF', 'LotFrontage',\n",
              "                                              'BedroomAbvGr'])),\n",
              "                ('median',\n",
              "                 MeanMedianImputer(variables=['MasVnrArea', '2ndFlrSF'])),\n",
              "                ('categorical',\n",
              "                 CategoricalImputer(fill_value='Unf',\n",
              "                                    va...\n",
              "                                       'MasVnrArea', 'OpenPorchSF',\n",
              "                                       'TotalBsmtSF', '1stFlrSF',\n",
              "                                       '2ndFlrSF'])),\n",
              "                ('SmartCorrelatedSelection',\n",
              "                 SmartCorrelatedSelection(method='spearman',\n",
              "                                          selection_method='variance')),\n",
              "                ('feat_scaling', StandardScaler()),\n",
              "                ('feat_selection',\n",
              "                 SelectFromModel(estimator=ExtraTreesRegressor(random_state=0))),\n",
              "                ('model',\n",
              "                 ExtraTreesRegressor(max_depth=15, min_samples_split=50,\n",
              "                                     random_state=0))])"
            ]
          },
          "execution_count": 21,
          "metadata": {},
          "output_type": "execute_result"
        }
      ],
      "source": [
        "best_regressor_pipeline"
      ]
    },
    {
      "cell_type": "markdown",
      "metadata": {
        "id": "1BqT1Kne54Fq"
      },
      "source": [
        "# Refit pipeline with best features"
      ]
    },
    {
      "cell_type": "markdown",
      "metadata": {},
      "source": [
        "## Rewrite Pipeline"
      ]
    },
    {
      "cell_type": "code",
      "execution_count": 23,
      "metadata": {},
      "outputs": [],
      "source": [
        "def PipelineOptimization(model):\n",
        "    pipeline_base = Pipeline(steps=[  \n",
        "    ( 'mean',  MeanMedianImputer(imputation_method='mean',\n",
        "                                     variables=['TotalBsmtSF']) ),\n",
        "                                     \n",
        "    ('lt', vt.LogTransformer(variables = ['GrLivArea']) ),\n",
        "\n",
        "    ('pt', vt.PowerTransformer(variables = ['TotalBsmtSF']) ),\n",
        "      \n",
        "    (\"Winsoriser_iqr\",Winsorizer(capping_method='iqr', fold=1.5, tail='both', \n",
        "                                                  variables=['TotalBsmtSF', 'GarageArea']) ),      \n",
        "\n",
        "    (\"feat_scaling\", StandardScaler() ),\n",
        "\n",
        "  ('model', ExtraTreesRegressor(max_depth=15, min_samples_split=50,\n",
        "                                     n_estimators=150, random_state=0))])        \n",
        "    return pipeline_base"
      ]
    },
    {
      "cell_type": "markdown",
      "metadata": {
        "id": "GpgS-AgU6IWx"
      },
      "source": [
        "## Split Train Test Set, only with best features"
      ]
    },
    {
      "cell_type": "markdown",
      "metadata": {
        "id": "ohPWfCs2E_3G"
      },
      "source": [
        "Subset Best Features"
      ]
    },
    {
      "cell_type": "code",
      "execution_count": 24,
      "metadata": {
        "id": "UUEIfyLU6IWz"
      },
      "outputs": [
        {
          "name": "stdout",
          "output_type": "stream",
          "text": [
            "* Train set: (1168, 5) (1168,) \n",
            "* Test set: (292, 5) (292,)\n"
          ]
        },
        {
          "data": {
            "text/html": [
              "<div>\n",
              "<style scoped>\n",
              "    .dataframe tbody tr th:only-of-type {\n",
              "        vertical-align: middle;\n",
              "    }\n",
              "\n",
              "    .dataframe tbody tr th {\n",
              "        vertical-align: top;\n",
              "    }\n",
              "\n",
              "    .dataframe thead th {\n",
              "        text-align: right;\n",
              "    }\n",
              "</style>\n",
              "<table border=\"1\" class=\"dataframe\">\n",
              "  <thead>\n",
              "    <tr style=\"text-align: right;\">\n",
              "      <th></th>\n",
              "      <th>GarageArea</th>\n",
              "      <th>GrLivArea</th>\n",
              "      <th>OverallQual</th>\n",
              "      <th>TotalBsmtSF</th>\n",
              "      <th>YearBuilt</th>\n",
              "    </tr>\n",
              "  </thead>\n",
              "  <tbody>\n",
              "    <tr>\n",
              "      <th>618</th>\n",
              "      <td>774</td>\n",
              "      <td>1828</td>\n",
              "      <td>9</td>\n",
              "      <td>1822</td>\n",
              "      <td>2007</td>\n",
              "    </tr>\n",
              "    <tr>\n",
              "      <th>870</th>\n",
              "      <td>308</td>\n",
              "      <td>894</td>\n",
              "      <td>5</td>\n",
              "      <td>894</td>\n",
              "      <td>1962</td>\n",
              "    </tr>\n",
              "    <tr>\n",
              "      <th>92</th>\n",
              "      <td>432</td>\n",
              "      <td>964</td>\n",
              "      <td>5</td>\n",
              "      <td>876</td>\n",
              "      <td>1921</td>\n",
              "    </tr>\n",
              "  </tbody>\n",
              "</table>\n",
              "</div>"
            ],
            "text/plain": [
              "     GarageArea  GrLivArea  OverallQual  TotalBsmtSF  YearBuilt\n",
              "618         774       1828            9         1822       2007\n",
              "870         308        894            5          894       1962\n",
              "92          432        964            5          876       1921"
            ]
          },
          "execution_count": 24,
          "metadata": {},
          "output_type": "execute_result"
        }
      ],
      "source": [
        "X_train = X_train.filter(best_features)\n",
        "X_test = X_test.filter(best_features)\n",
        "\n",
        "print(\"* Train set:\", X_train.shape, y_train.shape, \"\\n* Test set:\",  X_test.shape, y_test.shape)\n",
        "X_train.head(3)"
      ]
    },
    {
      "cell_type": "markdown",
      "metadata": {
        "id": "2fT_mdLWFJFz"
      },
      "source": [
        "## Grid Search CV – Sklearn"
      ]
    },
    {
      "cell_type": "markdown",
      "metadata": {
        "id": "RfKEBTyLeDtj"
      },
      "source": [
        "We are using the same model from the previous GridCV search"
      ]
    },
    {
      "cell_type": "code",
      "execution_count": 25,
      "metadata": {
        "id": "_1qcZktreHH5"
      },
      "outputs": [
        {
          "data": {
            "text/plain": [
              "{'ExtraTreesRegressor': ExtraTreesRegressor(random_state=0)}"
            ]
          },
          "execution_count": 25,
          "metadata": {},
          "output_type": "execute_result"
        }
      ],
      "source": [
        "models_search"
      ]
    },
    {
      "cell_type": "markdown",
      "metadata": {
        "id": "9WaSA9jcecXr"
      },
      "source": [
        "And the best parameters from the previous GridCV search"
      ]
    },
    {
      "cell_type": "code",
      "execution_count": 26,
      "metadata": {
        "id": "XXi0L025eKA6"
      },
      "outputs": [
        {
          "data": {
            "text/plain": [
              "{'model__max_depth': 15,\n",
              " 'model__min_samples_leaf': 1,\n",
              " 'model__min_samples_split': 50,\n",
              " 'model__n_estimators': 100}"
            ]
          },
          "execution_count": 26,
          "metadata": {},
          "output_type": "execute_result"
        }
      ],
      "source": [
        "best_parameters"
      ]
    },
    {
      "cell_type": "markdown",
      "metadata": {
        "id": "_7jAkvlBeeQl"
      },
      "source": [
        "You will need to type in manually, since the hyperparameter values has to be a list. The previous dictonary is not in this format"
      ]
    },
    {
      "cell_type": "code",
      "execution_count": 27,
      "metadata": {
        "id": "u9HBXI2E58_5"
      },
      "outputs": [],
      "source": [
        "params_search = {\n",
        "    \"ExtraTreesRegressor\":{'model__n_estimators': [50,100,150],\n",
        "        'model__max_depth': [None, 3, 15],\n",
        "        'model__min_samples_split': [2, 50],\n",
        "        'model__min_samples_leaf': [1,50],\n",
        "        },\n",
        "}"
      ]
    },
    {
      "cell_type": "markdown",
      "metadata": {
        "id": "zEZYXLRQfvTL"
      },
      "source": [
        "GridSearch CV"
      ]
    },
    {
      "cell_type": "code",
      "execution_count": 28,
      "metadata": {
        "id": "msJPkpo8fFAI"
      },
      "outputs": [
        {
          "name": "stdout",
          "output_type": "stream",
          "text": [
            "\n",
            "Running GridSearchCV for ExtraTreesRegressor \n",
            "\n",
            "Fitting 5 folds for each of 36 candidates, totalling 180 fits\n"
          ]
        }
      ],
      "source": [
        "search = HyperparameterOptimizationSearch(models=models_search, params=params_search)\n",
        "search.fit(X_train, y_train, scoring = 'r2', n_jobs=-1, cv=5)"
      ]
    },
    {
      "cell_type": "markdown",
      "metadata": {
        "id": "OcgDvuLRfwsE"
      },
      "source": [
        "\n",
        "Check results"
      ]
    },
    {
      "cell_type": "code",
      "execution_count": 29,
      "metadata": {
        "id": "loZEVp8g6q9O"
      },
      "outputs": [
        {
          "data": {
            "text/html": [
              "<div>\n",
              "<style scoped>\n",
              "    .dataframe tbody tr th:only-of-type {\n",
              "        vertical-align: middle;\n",
              "    }\n",
              "\n",
              "    .dataframe tbody tr th {\n",
              "        vertical-align: top;\n",
              "    }\n",
              "\n",
              "    .dataframe thead th {\n",
              "        text-align: right;\n",
              "    }\n",
              "</style>\n",
              "<table border=\"1\" class=\"dataframe\">\n",
              "  <thead>\n",
              "    <tr style=\"text-align: right;\">\n",
              "      <th></th>\n",
              "      <th>estimator</th>\n",
              "      <th>min_score</th>\n",
              "      <th>mean_score</th>\n",
              "      <th>max_score</th>\n",
              "      <th>std_score</th>\n",
              "      <th>model__max_depth</th>\n",
              "      <th>model__min_samples_leaf</th>\n",
              "      <th>model__min_samples_split</th>\n",
              "      <th>model__n_estimators</th>\n",
              "    </tr>\n",
              "  </thead>\n",
              "  <tbody>\n",
              "    <tr>\n",
              "      <th>4</th>\n",
              "      <td>ExtraTreesRegressor</td>\n",
              "      <td>0.759201</td>\n",
              "      <td>0.813482</td>\n",
              "      <td>0.84993</td>\n",
              "      <td>0.0398431</td>\n",
              "      <td>None</td>\n",
              "      <td>1</td>\n",
              "      <td>50</td>\n",
              "      <td>100</td>\n",
              "    </tr>\n",
              "    <tr>\n",
              "      <th>5</th>\n",
              "      <td>ExtraTreesRegressor</td>\n",
              "      <td>0.758026</td>\n",
              "      <td>0.813424</td>\n",
              "      <td>0.849294</td>\n",
              "      <td>0.0400073</td>\n",
              "      <td>None</td>\n",
              "      <td>1</td>\n",
              "      <td>50</td>\n",
              "      <td>150</td>\n",
              "    </tr>\n",
              "    <tr>\n",
              "      <th>28</th>\n",
              "      <td>ExtraTreesRegressor</td>\n",
              "      <td>0.759201</td>\n",
              "      <td>0.813396</td>\n",
              "      <td>0.849499</td>\n",
              "      <td>0.0397644</td>\n",
              "      <td>15</td>\n",
              "      <td>1</td>\n",
              "      <td>50</td>\n",
              "      <td>100</td>\n",
              "    </tr>\n",
              "    <tr>\n",
              "      <th>29</th>\n",
              "      <td>ExtraTreesRegressor</td>\n",
              "      <td>0.758026</td>\n",
              "      <td>0.813365</td>\n",
              "      <td>0.848997</td>\n",
              "      <td>0.0399543</td>\n",
              "      <td>15</td>\n",
              "      <td>1</td>\n",
              "      <td>50</td>\n",
              "      <td>150</td>\n",
              "    </tr>\n",
              "    <tr>\n",
              "      <th>2</th>\n",
              "      <td>ExtraTreesRegressor</td>\n",
              "      <td>0.687263</td>\n",
              "      <td>0.813181</td>\n",
              "      <td>0.872409</td>\n",
              "      <td>0.068385</td>\n",
              "      <td>None</td>\n",
              "      <td>1</td>\n",
              "      <td>2</td>\n",
              "      <td>150</td>\n",
              "    </tr>\n",
              "    <tr>\n",
              "      <th>25</th>\n",
              "      <td>ExtraTreesRegressor</td>\n",
              "      <td>0.699071</td>\n",
              "      <td>0.812915</td>\n",
              "      <td>0.874768</td>\n",
              "      <td>0.0652743</td>\n",
              "      <td>15</td>\n",
              "      <td>1</td>\n",
              "      <td>2</td>\n",
              "      <td>100</td>\n",
              "    </tr>\n",
              "    <tr>\n",
              "      <th>1</th>\n",
              "      <td>ExtraTreesRegressor</td>\n",
              "      <td>0.683084</td>\n",
              "      <td>0.8122</td>\n",
              "      <td>0.873763</td>\n",
              "      <td>0.0701413</td>\n",
              "      <td>None</td>\n",
              "      <td>1</td>\n",
              "      <td>2</td>\n",
              "      <td>100</td>\n",
              "    </tr>\n",
              "    <tr>\n",
              "      <th>3</th>\n",
              "      <td>ExtraTreesRegressor</td>\n",
              "      <td>0.754226</td>\n",
              "      <td>0.810809</td>\n",
              "      <td>0.846481</td>\n",
              "      <td>0.0415942</td>\n",
              "      <td>None</td>\n",
              "      <td>1</td>\n",
              "      <td>50</td>\n",
              "      <td>50</td>\n",
              "    </tr>\n",
              "    <tr>\n",
              "      <th>27</th>\n",
              "      <td>ExtraTreesRegressor</td>\n",
              "      <td>0.754226</td>\n",
              "      <td>0.810608</td>\n",
              "      <td>0.845473</td>\n",
              "      <td>0.0414229</td>\n",
              "      <td>15</td>\n",
              "      <td>1</td>\n",
              "      <td>50</td>\n",
              "      <td>50</td>\n",
              "    </tr>\n",
              "    <tr>\n",
              "      <th>26</th>\n",
              "      <td>ExtraTreesRegressor</td>\n",
              "      <td>0.689778</td>\n",
              "      <td>0.810415</td>\n",
              "      <td>0.874217</td>\n",
              "      <td>0.0695037</td>\n",
              "      <td>15</td>\n",
              "      <td>1</td>\n",
              "      <td>2</td>\n",
              "      <td>150</td>\n",
              "    </tr>\n",
              "    <tr>\n",
              "      <th>0</th>\n",
              "      <td>ExtraTreesRegressor</td>\n",
              "      <td>0.662776</td>\n",
              "      <td>0.807774</td>\n",
              "      <td>0.87566</td>\n",
              "      <td>0.0787621</td>\n",
              "      <td>None</td>\n",
              "      <td>1</td>\n",
              "      <td>2</td>\n",
              "      <td>50</td>\n",
              "    </tr>\n",
              "    <tr>\n",
              "      <th>24</th>\n",
              "      <td>ExtraTreesRegressor</td>\n",
              "      <td>0.680201</td>\n",
              "      <td>0.805064</td>\n",
              "      <td>0.877451</td>\n",
              "      <td>0.0728742</td>\n",
              "      <td>15</td>\n",
              "      <td>1</td>\n",
              "      <td>2</td>\n",
              "      <td>50</td>\n",
              "    </tr>\n",
              "    <tr>\n",
              "      <th>16</th>\n",
              "      <td>ExtraTreesRegressor</td>\n",
              "      <td>0.705002</td>\n",
              "      <td>0.754039</td>\n",
              "      <td>0.787327</td>\n",
              "      <td>0.0334315</td>\n",
              "      <td>3</td>\n",
              "      <td>1</td>\n",
              "      <td>50</td>\n",
              "      <td>100</td>\n",
              "    </tr>\n",
              "    <tr>\n",
              "      <th>13</th>\n",
              "      <td>ExtraTreesRegressor</td>\n",
              "      <td>0.698514</td>\n",
              "      <td>0.752863</td>\n",
              "      <td>0.786144</td>\n",
              "      <td>0.034423</td>\n",
              "      <td>3</td>\n",
              "      <td>1</td>\n",
              "      <td>2</td>\n",
              "      <td>100</td>\n",
              "    </tr>\n",
              "    <tr>\n",
              "      <th>17</th>\n",
              "      <td>ExtraTreesRegressor</td>\n",
              "      <td>0.700257</td>\n",
              "      <td>0.749771</td>\n",
              "      <td>0.783777</td>\n",
              "      <td>0.0334872</td>\n",
              "      <td>3</td>\n",
              "      <td>1</td>\n",
              "      <td>50</td>\n",
              "      <td>150</td>\n",
              "    </tr>\n",
              "    <tr>\n",
              "      <th>14</th>\n",
              "      <td>ExtraTreesRegressor</td>\n",
              "      <td>0.693347</td>\n",
              "      <td>0.748747</td>\n",
              "      <td>0.783275</td>\n",
              "      <td>0.0351806</td>\n",
              "      <td>3</td>\n",
              "      <td>1</td>\n",
              "      <td>2</td>\n",
              "      <td>150</td>\n",
              "    </tr>\n",
              "    <tr>\n",
              "      <th>15</th>\n",
              "      <td>ExtraTreesRegressor</td>\n",
              "      <td>0.698444</td>\n",
              "      <td>0.745812</td>\n",
              "      <td>0.781835</td>\n",
              "      <td>0.0322013</td>\n",
              "      <td>3</td>\n",
              "      <td>1</td>\n",
              "      <td>50</td>\n",
              "      <td>50</td>\n",
              "    </tr>\n",
              "    <tr>\n",
              "      <th>12</th>\n",
              "      <td>ExtraTreesRegressor</td>\n",
              "      <td>0.690935</td>\n",
              "      <td>0.743643</td>\n",
              "      <td>0.778707</td>\n",
              "      <td>0.0329153</td>\n",
              "      <td>3</td>\n",
              "      <td>1</td>\n",
              "      <td>2</td>\n",
              "      <td>50</td>\n",
              "    </tr>\n",
              "    <tr>\n",
              "      <th>10</th>\n",
              "      <td>ExtraTreesRegressor</td>\n",
              "      <td>0.669059</td>\n",
              "      <td>0.728771</td>\n",
              "      <td>0.776205</td>\n",
              "      <td>0.0450855</td>\n",
              "      <td>None</td>\n",
              "      <td>50</td>\n",
              "      <td>50</td>\n",
              "      <td>100</td>\n",
              "    </tr>\n",
              "    <tr>\n",
              "      <th>31</th>\n",
              "      <td>ExtraTreesRegressor</td>\n",
              "      <td>0.669059</td>\n",
              "      <td>0.728771</td>\n",
              "      <td>0.776205</td>\n",
              "      <td>0.0450855</td>\n",
              "      <td>15</td>\n",
              "      <td>50</td>\n",
              "      <td>2</td>\n",
              "      <td>100</td>\n",
              "    </tr>\n",
              "    <tr>\n",
              "      <th>34</th>\n",
              "      <td>ExtraTreesRegressor</td>\n",
              "      <td>0.669059</td>\n",
              "      <td>0.728771</td>\n",
              "      <td>0.776205</td>\n",
              "      <td>0.0450855</td>\n",
              "      <td>15</td>\n",
              "      <td>50</td>\n",
              "      <td>50</td>\n",
              "      <td>100</td>\n",
              "    </tr>\n",
              "    <tr>\n",
              "      <th>7</th>\n",
              "      <td>ExtraTreesRegressor</td>\n",
              "      <td>0.669059</td>\n",
              "      <td>0.728771</td>\n",
              "      <td>0.776205</td>\n",
              "      <td>0.0450855</td>\n",
              "      <td>None</td>\n",
              "      <td>50</td>\n",
              "      <td>2</td>\n",
              "      <td>100</td>\n",
              "    </tr>\n",
              "    <tr>\n",
              "      <th>33</th>\n",
              "      <td>ExtraTreesRegressor</td>\n",
              "      <td>0.669354</td>\n",
              "      <td>0.728376</td>\n",
              "      <td>0.777083</td>\n",
              "      <td>0.0455931</td>\n",
              "      <td>15</td>\n",
              "      <td>50</td>\n",
              "      <td>50</td>\n",
              "      <td>50</td>\n",
              "    </tr>\n",
              "    <tr>\n",
              "      <th>9</th>\n",
              "      <td>ExtraTreesRegressor</td>\n",
              "      <td>0.669354</td>\n",
              "      <td>0.728376</td>\n",
              "      <td>0.777083</td>\n",
              "      <td>0.0455931</td>\n",
              "      <td>None</td>\n",
              "      <td>50</td>\n",
              "      <td>50</td>\n",
              "      <td>50</td>\n",
              "    </tr>\n",
              "    <tr>\n",
              "      <th>30</th>\n",
              "      <td>ExtraTreesRegressor</td>\n",
              "      <td>0.669354</td>\n",
              "      <td>0.728376</td>\n",
              "      <td>0.777083</td>\n",
              "      <td>0.0455931</td>\n",
              "      <td>15</td>\n",
              "      <td>50</td>\n",
              "      <td>2</td>\n",
              "      <td>50</td>\n",
              "    </tr>\n",
              "    <tr>\n",
              "      <th>6</th>\n",
              "      <td>ExtraTreesRegressor</td>\n",
              "      <td>0.669354</td>\n",
              "      <td>0.728376</td>\n",
              "      <td>0.777083</td>\n",
              "      <td>0.0455931</td>\n",
              "      <td>None</td>\n",
              "      <td>50</td>\n",
              "      <td>2</td>\n",
              "      <td>50</td>\n",
              "    </tr>\n",
              "    <tr>\n",
              "      <th>32</th>\n",
              "      <td>ExtraTreesRegressor</td>\n",
              "      <td>0.668442</td>\n",
              "      <td>0.727369</td>\n",
              "      <td>0.774364</td>\n",
              "      <td>0.045405</td>\n",
              "      <td>15</td>\n",
              "      <td>50</td>\n",
              "      <td>2</td>\n",
              "      <td>150</td>\n",
              "    </tr>\n",
              "    <tr>\n",
              "      <th>35</th>\n",
              "      <td>ExtraTreesRegressor</td>\n",
              "      <td>0.668442</td>\n",
              "      <td>0.727369</td>\n",
              "      <td>0.774364</td>\n",
              "      <td>0.045405</td>\n",
              "      <td>15</td>\n",
              "      <td>50</td>\n",
              "      <td>50</td>\n",
              "      <td>150</td>\n",
              "    </tr>\n",
              "    <tr>\n",
              "      <th>11</th>\n",
              "      <td>ExtraTreesRegressor</td>\n",
              "      <td>0.668442</td>\n",
              "      <td>0.727369</td>\n",
              "      <td>0.774364</td>\n",
              "      <td>0.045405</td>\n",
              "      <td>None</td>\n",
              "      <td>50</td>\n",
              "      <td>50</td>\n",
              "      <td>150</td>\n",
              "    </tr>\n",
              "    <tr>\n",
              "      <th>8</th>\n",
              "      <td>ExtraTreesRegressor</td>\n",
              "      <td>0.668442</td>\n",
              "      <td>0.727369</td>\n",
              "      <td>0.774364</td>\n",
              "      <td>0.045405</td>\n",
              "      <td>None</td>\n",
              "      <td>50</td>\n",
              "      <td>2</td>\n",
              "      <td>150</td>\n",
              "    </tr>\n",
              "    <tr>\n",
              "      <th>22</th>\n",
              "      <td>ExtraTreesRegressor</td>\n",
              "      <td>0.65607</td>\n",
              "      <td>0.709942</td>\n",
              "      <td>0.757538</td>\n",
              "      <td>0.042883</td>\n",
              "      <td>3</td>\n",
              "      <td>50</td>\n",
              "      <td>50</td>\n",
              "      <td>100</td>\n",
              "    </tr>\n",
              "    <tr>\n",
              "      <th>19</th>\n",
              "      <td>ExtraTreesRegressor</td>\n",
              "      <td>0.65607</td>\n",
              "      <td>0.709942</td>\n",
              "      <td>0.757538</td>\n",
              "      <td>0.042883</td>\n",
              "      <td>3</td>\n",
              "      <td>50</td>\n",
              "      <td>2</td>\n",
              "      <td>100</td>\n",
              "    </tr>\n",
              "    <tr>\n",
              "      <th>23</th>\n",
              "      <td>ExtraTreesRegressor</td>\n",
              "      <td>0.652135</td>\n",
              "      <td>0.703946</td>\n",
              "      <td>0.749852</td>\n",
              "      <td>0.0419443</td>\n",
              "      <td>3</td>\n",
              "      <td>50</td>\n",
              "      <td>50</td>\n",
              "      <td>150</td>\n",
              "    </tr>\n",
              "    <tr>\n",
              "      <th>20</th>\n",
              "      <td>ExtraTreesRegressor</td>\n",
              "      <td>0.652135</td>\n",
              "      <td>0.703946</td>\n",
              "      <td>0.749852</td>\n",
              "      <td>0.0419443</td>\n",
              "      <td>3</td>\n",
              "      <td>50</td>\n",
              "      <td>2</td>\n",
              "      <td>150</td>\n",
              "    </tr>\n",
              "    <tr>\n",
              "      <th>21</th>\n",
              "      <td>ExtraTreesRegressor</td>\n",
              "      <td>0.64798</td>\n",
              "      <td>0.700205</td>\n",
              "      <td>0.744651</td>\n",
              "      <td>0.0434133</td>\n",
              "      <td>3</td>\n",
              "      <td>50</td>\n",
              "      <td>50</td>\n",
              "      <td>50</td>\n",
              "    </tr>\n",
              "    <tr>\n",
              "      <th>18</th>\n",
              "      <td>ExtraTreesRegressor</td>\n",
              "      <td>0.64798</td>\n",
              "      <td>0.700205</td>\n",
              "      <td>0.744651</td>\n",
              "      <td>0.0434133</td>\n",
              "      <td>3</td>\n",
              "      <td>50</td>\n",
              "      <td>2</td>\n",
              "      <td>50</td>\n",
              "    </tr>\n",
              "  </tbody>\n",
              "</table>\n",
              "</div>"
            ],
            "text/plain": [
              "              estimator min_score mean_score max_score  std_score  \\\n",
              "4   ExtraTreesRegressor  0.759201   0.813482   0.84993  0.0398431   \n",
              "5   ExtraTreesRegressor  0.758026   0.813424  0.849294  0.0400073   \n",
              "28  ExtraTreesRegressor  0.759201   0.813396  0.849499  0.0397644   \n",
              "29  ExtraTreesRegressor  0.758026   0.813365  0.848997  0.0399543   \n",
              "2   ExtraTreesRegressor  0.687263   0.813181  0.872409   0.068385   \n",
              "25  ExtraTreesRegressor  0.699071   0.812915  0.874768  0.0652743   \n",
              "1   ExtraTreesRegressor  0.683084     0.8122  0.873763  0.0701413   \n",
              "3   ExtraTreesRegressor  0.754226   0.810809  0.846481  0.0415942   \n",
              "27  ExtraTreesRegressor  0.754226   0.810608  0.845473  0.0414229   \n",
              "26  ExtraTreesRegressor  0.689778   0.810415  0.874217  0.0695037   \n",
              "0   ExtraTreesRegressor  0.662776   0.807774   0.87566  0.0787621   \n",
              "24  ExtraTreesRegressor  0.680201   0.805064  0.877451  0.0728742   \n",
              "16  ExtraTreesRegressor  0.705002   0.754039  0.787327  0.0334315   \n",
              "13  ExtraTreesRegressor  0.698514   0.752863  0.786144   0.034423   \n",
              "17  ExtraTreesRegressor  0.700257   0.749771  0.783777  0.0334872   \n",
              "14  ExtraTreesRegressor  0.693347   0.748747  0.783275  0.0351806   \n",
              "15  ExtraTreesRegressor  0.698444   0.745812  0.781835  0.0322013   \n",
              "12  ExtraTreesRegressor  0.690935   0.743643  0.778707  0.0329153   \n",
              "10  ExtraTreesRegressor  0.669059   0.728771  0.776205  0.0450855   \n",
              "31  ExtraTreesRegressor  0.669059   0.728771  0.776205  0.0450855   \n",
              "34  ExtraTreesRegressor  0.669059   0.728771  0.776205  0.0450855   \n",
              "7   ExtraTreesRegressor  0.669059   0.728771  0.776205  0.0450855   \n",
              "33  ExtraTreesRegressor  0.669354   0.728376  0.777083  0.0455931   \n",
              "9   ExtraTreesRegressor  0.669354   0.728376  0.777083  0.0455931   \n",
              "30  ExtraTreesRegressor  0.669354   0.728376  0.777083  0.0455931   \n",
              "6   ExtraTreesRegressor  0.669354   0.728376  0.777083  0.0455931   \n",
              "32  ExtraTreesRegressor  0.668442   0.727369  0.774364   0.045405   \n",
              "35  ExtraTreesRegressor  0.668442   0.727369  0.774364   0.045405   \n",
              "11  ExtraTreesRegressor  0.668442   0.727369  0.774364   0.045405   \n",
              "8   ExtraTreesRegressor  0.668442   0.727369  0.774364   0.045405   \n",
              "22  ExtraTreesRegressor   0.65607   0.709942  0.757538   0.042883   \n",
              "19  ExtraTreesRegressor   0.65607   0.709942  0.757538   0.042883   \n",
              "23  ExtraTreesRegressor  0.652135   0.703946  0.749852  0.0419443   \n",
              "20  ExtraTreesRegressor  0.652135   0.703946  0.749852  0.0419443   \n",
              "21  ExtraTreesRegressor   0.64798   0.700205  0.744651  0.0434133   \n",
              "18  ExtraTreesRegressor   0.64798   0.700205  0.744651  0.0434133   \n",
              "\n",
              "   model__max_depth model__min_samples_leaf model__min_samples_split  \\\n",
              "4              None                       1                       50   \n",
              "5              None                       1                       50   \n",
              "28               15                       1                       50   \n",
              "29               15                       1                       50   \n",
              "2              None                       1                        2   \n",
              "25               15                       1                        2   \n",
              "1              None                       1                        2   \n",
              "3              None                       1                       50   \n",
              "27               15                       1                       50   \n",
              "26               15                       1                        2   \n",
              "0              None                       1                        2   \n",
              "24               15                       1                        2   \n",
              "16                3                       1                       50   \n",
              "13                3                       1                        2   \n",
              "17                3                       1                       50   \n",
              "14                3                       1                        2   \n",
              "15                3                       1                       50   \n",
              "12                3                       1                        2   \n",
              "10             None                      50                       50   \n",
              "31               15                      50                        2   \n",
              "34               15                      50                       50   \n",
              "7              None                      50                        2   \n",
              "33               15                      50                       50   \n",
              "9              None                      50                       50   \n",
              "30               15                      50                        2   \n",
              "6              None                      50                        2   \n",
              "32               15                      50                        2   \n",
              "35               15                      50                       50   \n",
              "11             None                      50                       50   \n",
              "8              None                      50                        2   \n",
              "22                3                      50                       50   \n",
              "19                3                      50                        2   \n",
              "23                3                      50                       50   \n",
              "20                3                      50                        2   \n",
              "21                3                      50                       50   \n",
              "18                3                      50                        2   \n",
              "\n",
              "   model__n_estimators  \n",
              "4                  100  \n",
              "5                  150  \n",
              "28                 100  \n",
              "29                 150  \n",
              "2                  150  \n",
              "25                 100  \n",
              "1                  100  \n",
              "3                   50  \n",
              "27                  50  \n",
              "26                 150  \n",
              "0                   50  \n",
              "24                  50  \n",
              "16                 100  \n",
              "13                 100  \n",
              "17                 150  \n",
              "14                 150  \n",
              "15                  50  \n",
              "12                  50  \n",
              "10                 100  \n",
              "31                 100  \n",
              "34                 100  \n",
              "7                  100  \n",
              "33                  50  \n",
              "9                   50  \n",
              "30                  50  \n",
              "6                   50  \n",
              "32                 150  \n",
              "35                 150  \n",
              "11                 150  \n",
              "8                  150  \n",
              "22                 100  \n",
              "19                 100  \n",
              "23                 150  \n",
              "20                 150  \n",
              "21                  50  \n",
              "18                  50  "
            ]
          },
          "execution_count": 29,
          "metadata": {},
          "output_type": "execute_result"
        }
      ],
      "source": [
        "grid_search_summary, grid_search_pipelines = search.score_summary(sort_by='mean_score')\n",
        "grid_search_summary"
      ]
    },
    {
      "cell_type": "markdown",
      "metadata": {
        "id": "3TE6Xgvif1ek"
      },
      "source": [
        "Check the best model"
      ]
    },
    {
      "cell_type": "code",
      "execution_count": 30,
      "metadata": {
        "id": "sf6qYXV06q9O"
      },
      "outputs": [
        {
          "data": {
            "text/plain": [
              "'ExtraTreesRegressor'"
            ]
          },
          "execution_count": 30,
          "metadata": {},
          "output_type": "execute_result"
        }
      ],
      "source": [
        "best_model = grid_search_summary.iloc[0,0]\n",
        "best_model"
      ]
    },
    {
      "cell_type": "markdown",
      "metadata": {
        "id": "oeB08Md3f60p"
      },
      "source": [
        "Define the best clf pipeline"
      ]
    },
    {
      "cell_type": "code",
      "execution_count": 31,
      "metadata": {
        "id": "YuA9mpyk6q9P"
      },
      "outputs": [
        {
          "data": {
            "text/html": [
              "<style>#sk-container-id-3 {color: black;background-color: white;}#sk-container-id-3 pre{padding: 0;}#sk-container-id-3 div.sk-toggleable {background-color: white;}#sk-container-id-3 label.sk-toggleable__label {cursor: pointer;display: block;width: 100%;margin-bottom: 0;padding: 0.3em;box-sizing: border-box;text-align: center;}#sk-container-id-3 label.sk-toggleable__label-arrow:before {content: \"▸\";float: left;margin-right: 0.25em;color: #696969;}#sk-container-id-3 label.sk-toggleable__label-arrow:hover:before {color: black;}#sk-container-id-3 div.sk-estimator:hover label.sk-toggleable__label-arrow:before {color: black;}#sk-container-id-3 div.sk-toggleable__content {max-height: 0;max-width: 0;overflow: hidden;text-align: left;background-color: #f0f8ff;}#sk-container-id-3 div.sk-toggleable__content pre {margin: 0.2em;color: black;border-radius: 0.25em;background-color: #f0f8ff;}#sk-container-id-3 input.sk-toggleable__control:checked~div.sk-toggleable__content {max-height: 200px;max-width: 100%;overflow: auto;}#sk-container-id-3 input.sk-toggleable__control:checked~label.sk-toggleable__label-arrow:before {content: \"▾\";}#sk-container-id-3 div.sk-estimator input.sk-toggleable__control:checked~label.sk-toggleable__label {background-color: #d4ebff;}#sk-container-id-3 div.sk-label input.sk-toggleable__control:checked~label.sk-toggleable__label {background-color: #d4ebff;}#sk-container-id-3 input.sk-hidden--visually {border: 0;clip: rect(1px 1px 1px 1px);clip: rect(1px, 1px, 1px, 1px);height: 1px;margin: -1px;overflow: hidden;padding: 0;position: absolute;width: 1px;}#sk-container-id-3 div.sk-estimator {font-family: monospace;background-color: #f0f8ff;border: 1px dotted black;border-radius: 0.25em;box-sizing: border-box;margin-bottom: 0.5em;}#sk-container-id-3 div.sk-estimator:hover {background-color: #d4ebff;}#sk-container-id-3 div.sk-parallel-item::after {content: \"\";width: 100%;border-bottom: 1px solid gray;flex-grow: 1;}#sk-container-id-3 div.sk-label:hover label.sk-toggleable__label {background-color: #d4ebff;}#sk-container-id-3 div.sk-serial::before {content: \"\";position: absolute;border-left: 1px solid gray;box-sizing: border-box;top: 0;bottom: 0;left: 50%;z-index: 0;}#sk-container-id-3 div.sk-serial {display: flex;flex-direction: column;align-items: center;background-color: white;padding-right: 0.2em;padding-left: 0.2em;position: relative;}#sk-container-id-3 div.sk-item {position: relative;z-index: 1;}#sk-container-id-3 div.sk-parallel {display: flex;align-items: stretch;justify-content: center;background-color: white;position: relative;}#sk-container-id-3 div.sk-item::before, #sk-container-id-3 div.sk-parallel-item::before {content: \"\";position: absolute;border-left: 1px solid gray;box-sizing: border-box;top: 0;bottom: 0;left: 50%;z-index: -1;}#sk-container-id-3 div.sk-parallel-item {display: flex;flex-direction: column;z-index: 1;position: relative;background-color: white;}#sk-container-id-3 div.sk-parallel-item:first-child::after {align-self: flex-end;width: 50%;}#sk-container-id-3 div.sk-parallel-item:last-child::after {align-self: flex-start;width: 50%;}#sk-container-id-3 div.sk-parallel-item:only-child::after {width: 0;}#sk-container-id-3 div.sk-dashed-wrapped {border: 1px dashed gray;margin: 0 0.4em 0.5em 0.4em;box-sizing: border-box;padding-bottom: 0.4em;background-color: white;}#sk-container-id-3 div.sk-label label {font-family: monospace;font-weight: bold;display: inline-block;line-height: 1.2em;}#sk-container-id-3 div.sk-label-container {text-align: center;}#sk-container-id-3 div.sk-container {/* jupyter's `normalize.less` sets `[hidden] { display: none; }` but bootstrap.min.css set `[hidden] { display: none !important; }` so we also need the `!important` here to be able to override the default hidden behavior on the sphinx rendered scikit-learn.org. See: https://github.com/scikit-learn/scikit-learn/issues/21755 */display: inline-block !important;position: relative;}#sk-container-id-3 div.sk-text-repr-fallback {display: none;}</style><div id=\"sk-container-id-3\" class=\"sk-top-container\"><div class=\"sk-text-repr-fallback\"><pre>Pipeline(steps=[(&#x27;mean&#x27;,\n",
              "                 MeanMedianImputer(imputation_method=&#x27;mean&#x27;,\n",
              "                                   variables=[&#x27;TotalBsmtSF&#x27;])),\n",
              "                (&#x27;lt&#x27;, LogTransformer(variables=[&#x27;GrLivArea&#x27;])),\n",
              "                (&#x27;pt&#x27;, PowerTransformer(variables=[&#x27;TotalBsmtSF&#x27;])),\n",
              "                (&#x27;Winsoriser_iqr&#x27;,\n",
              "                 Winsorizer(capping_method=&#x27;iqr&#x27;, fold=1.5, tail=&#x27;both&#x27;,\n",
              "                            variables=[&#x27;TotalBsmtSF&#x27;, &#x27;GarageArea&#x27;])),\n",
              "                (&#x27;feat_scaling&#x27;, StandardScaler()),\n",
              "                (&#x27;model&#x27;,\n",
              "                 ExtraTreesRegressor(min_samples_split=50, random_state=0))])</pre><b>In a Jupyter environment, please rerun this cell to show the HTML representation or trust the notebook. <br />On GitHub, the HTML representation is unable to render, please try loading this page with nbviewer.org.</b></div><div class=\"sk-container\" hidden><div class=\"sk-item sk-dashed-wrapped\"><div class=\"sk-label-container\"><div class=\"sk-label sk-toggleable\"><input class=\"sk-toggleable__control sk-hidden--visually\" id=\"sk-estimator-id-31\" type=\"checkbox\" ><label for=\"sk-estimator-id-31\" class=\"sk-toggleable__label sk-toggleable__label-arrow\">Pipeline</label><div class=\"sk-toggleable__content\"><pre>Pipeline(steps=[(&#x27;mean&#x27;,\n",
              "                 MeanMedianImputer(imputation_method=&#x27;mean&#x27;,\n",
              "                                   variables=[&#x27;TotalBsmtSF&#x27;])),\n",
              "                (&#x27;lt&#x27;, LogTransformer(variables=[&#x27;GrLivArea&#x27;])),\n",
              "                (&#x27;pt&#x27;, PowerTransformer(variables=[&#x27;TotalBsmtSF&#x27;])),\n",
              "                (&#x27;Winsoriser_iqr&#x27;,\n",
              "                 Winsorizer(capping_method=&#x27;iqr&#x27;, fold=1.5, tail=&#x27;both&#x27;,\n",
              "                            variables=[&#x27;TotalBsmtSF&#x27;, &#x27;GarageArea&#x27;])),\n",
              "                (&#x27;feat_scaling&#x27;, StandardScaler()),\n",
              "                (&#x27;model&#x27;,\n",
              "                 ExtraTreesRegressor(min_samples_split=50, random_state=0))])</pre></div></div></div><div class=\"sk-serial\"><div class=\"sk-item\"><div class=\"sk-estimator sk-toggleable\"><input class=\"sk-toggleable__control sk-hidden--visually\" id=\"sk-estimator-id-32\" type=\"checkbox\" ><label for=\"sk-estimator-id-32\" class=\"sk-toggleable__label sk-toggleable__label-arrow\">MeanMedianImputer</label><div class=\"sk-toggleable__content\"><pre>MeanMedianImputer(imputation_method=&#x27;mean&#x27;, variables=[&#x27;TotalBsmtSF&#x27;])</pre></div></div></div><div class=\"sk-item\"><div class=\"sk-estimator sk-toggleable\"><input class=\"sk-toggleable__control sk-hidden--visually\" id=\"sk-estimator-id-33\" type=\"checkbox\" ><label for=\"sk-estimator-id-33\" class=\"sk-toggleable__label sk-toggleable__label-arrow\">LogTransformer</label><div class=\"sk-toggleable__content\"><pre>LogTransformer(variables=[&#x27;GrLivArea&#x27;])</pre></div></div></div><div class=\"sk-item\"><div class=\"sk-estimator sk-toggleable\"><input class=\"sk-toggleable__control sk-hidden--visually\" id=\"sk-estimator-id-34\" type=\"checkbox\" ><label for=\"sk-estimator-id-34\" class=\"sk-toggleable__label sk-toggleable__label-arrow\">PowerTransformer</label><div class=\"sk-toggleable__content\"><pre>PowerTransformer(variables=[&#x27;TotalBsmtSF&#x27;])</pre></div></div></div><div class=\"sk-item\"><div class=\"sk-estimator sk-toggleable\"><input class=\"sk-toggleable__control sk-hidden--visually\" id=\"sk-estimator-id-35\" type=\"checkbox\" ><label for=\"sk-estimator-id-35\" class=\"sk-toggleable__label sk-toggleable__label-arrow\">Winsorizer</label><div class=\"sk-toggleable__content\"><pre>Winsorizer(capping_method=&#x27;iqr&#x27;, fold=1.5, tail=&#x27;both&#x27;,\n",
              "           variables=[&#x27;TotalBsmtSF&#x27;, &#x27;GarageArea&#x27;])</pre></div></div></div><div class=\"sk-item\"><div class=\"sk-estimator sk-toggleable\"><input class=\"sk-toggleable__control sk-hidden--visually\" id=\"sk-estimator-id-36\" type=\"checkbox\" ><label for=\"sk-estimator-id-36\" class=\"sk-toggleable__label sk-toggleable__label-arrow\">StandardScaler</label><div class=\"sk-toggleable__content\"><pre>StandardScaler()</pre></div></div></div><div class=\"sk-item\"><div class=\"sk-estimator sk-toggleable\"><input class=\"sk-toggleable__control sk-hidden--visually\" id=\"sk-estimator-id-37\" type=\"checkbox\" ><label for=\"sk-estimator-id-37\" class=\"sk-toggleable__label sk-toggleable__label-arrow\">ExtraTreesRegressor</label><div class=\"sk-toggleable__content\"><pre>ExtraTreesRegressor(min_samples_split=50, random_state=0)</pre></div></div></div></div></div></div></div>"
            ],
            "text/plain": [
              "Pipeline(steps=[('mean',\n",
              "                 MeanMedianImputer(imputation_method='mean',\n",
              "                                   variables=['TotalBsmtSF'])),\n",
              "                ('lt', LogTransformer(variables=['GrLivArea'])),\n",
              "                ('pt', PowerTransformer(variables=['TotalBsmtSF'])),\n",
              "                ('Winsoriser_iqr',\n",
              "                 Winsorizer(capping_method='iqr', fold=1.5, tail='both',\n",
              "                            variables=['TotalBsmtSF', 'GarageArea'])),\n",
              "                ('feat_scaling', StandardScaler()),\n",
              "                ('model',\n",
              "                 ExtraTreesRegressor(min_samples_split=50, random_state=0))])"
            ]
          },
          "execution_count": 31,
          "metadata": {},
          "output_type": "execute_result"
        }
      ],
      "source": [
        "best_pipeline_regressor = grid_search_pipelines[best_model].best_estimator_\n",
        "best_pipeline_regressor"
      ]
    },
    {
      "cell_type": "markdown",
      "metadata": {
        "id": "GBtppR73G1Yx"
      },
      "source": [
        "# Push files to the repo"
      ]
    },
    {
      "cell_type": "markdown",
      "metadata": {
        "id": "ShuJ5tYUC06o"
      },
      "source": [
        "We will generate the following files\n",
        "\n",
        "* Train set\n",
        "* Test set\n",
        "* Modeling pipeline\n",
        "* label map\n",
        "* features importance plot"
      ]
    },
    {
      "cell_type": "code",
      "execution_count": 32,
      "metadata": {
        "id": "8vBpPvnaG5Mb"
      },
      "outputs": [],
      "source": [
        "import joblib\n",
        "import os\n",
        "\n",
        "version = 'v4'\n",
        "file_path = f'outputs/ml_pipeline/predict_price/{version}'\n",
        "\n",
        "try:\n",
        "  os.makedirs(name=file_path)\n",
        "except Exception as e:\n",
        "  print(e)"
      ]
    },
    {
      "cell_type": "markdown",
      "metadata": {
        "id": "4TvoMsi3DNw1"
      },
      "source": [
        "## Train Set : features and target"
      ]
    },
    {
      "cell_type": "code",
      "execution_count": 33,
      "metadata": {
        "id": "yJHmwyqgDOr1"
      },
      "outputs": [
        {
          "data": {
            "text/html": [
              "<div>\n",
              "<style scoped>\n",
              "    .dataframe tbody tr th:only-of-type {\n",
              "        vertical-align: middle;\n",
              "    }\n",
              "\n",
              "    .dataframe tbody tr th {\n",
              "        vertical-align: top;\n",
              "    }\n",
              "\n",
              "    .dataframe thead th {\n",
              "        text-align: right;\n",
              "    }\n",
              "</style>\n",
              "<table border=\"1\" class=\"dataframe\">\n",
              "  <thead>\n",
              "    <tr style=\"text-align: right;\">\n",
              "      <th></th>\n",
              "      <th>GarageArea</th>\n",
              "      <th>GrLivArea</th>\n",
              "      <th>OverallQual</th>\n",
              "      <th>TotalBsmtSF</th>\n",
              "      <th>YearBuilt</th>\n",
              "    </tr>\n",
              "  </thead>\n",
              "  <tbody>\n",
              "    <tr>\n",
              "      <th>618</th>\n",
              "      <td>774</td>\n",
              "      <td>1828</td>\n",
              "      <td>9</td>\n",
              "      <td>1822</td>\n",
              "      <td>2007</td>\n",
              "    </tr>\n",
              "    <tr>\n",
              "      <th>870</th>\n",
              "      <td>308</td>\n",
              "      <td>894</td>\n",
              "      <td>5</td>\n",
              "      <td>894</td>\n",
              "      <td>1962</td>\n",
              "    </tr>\n",
              "    <tr>\n",
              "      <th>92</th>\n",
              "      <td>432</td>\n",
              "      <td>964</td>\n",
              "      <td>5</td>\n",
              "      <td>876</td>\n",
              "      <td>1921</td>\n",
              "    </tr>\n",
              "    <tr>\n",
              "      <th>817</th>\n",
              "      <td>857</td>\n",
              "      <td>1689</td>\n",
              "      <td>8</td>\n",
              "      <td>1568</td>\n",
              "      <td>2002</td>\n",
              "    </tr>\n",
              "    <tr>\n",
              "      <th>302</th>\n",
              "      <td>843</td>\n",
              "      <td>1541</td>\n",
              "      <td>7</td>\n",
              "      <td>1541</td>\n",
              "      <td>2001</td>\n",
              "    </tr>\n",
              "  </tbody>\n",
              "</table>\n",
              "</div>"
            ],
            "text/plain": [
              "     GarageArea  GrLivArea  OverallQual  TotalBsmtSF  YearBuilt\n",
              "618         774       1828            9         1822       2007\n",
              "870         308        894            5          894       1962\n",
              "92          432        964            5          876       1921\n",
              "817         857       1689            8         1568       2002\n",
              "302         843       1541            7         1541       2001"
            ]
          },
          "execution_count": 33,
          "metadata": {},
          "output_type": "execute_result"
        }
      ],
      "source": [
        "X_train.head()"
      ]
    },
    {
      "cell_type": "code",
      "execution_count": 34,
      "metadata": {
        "id": "yh6w6R7tDOvM"
      },
      "outputs": [],
      "source": [
        "X_train.to_csv(f\"{file_path}/X_train.csv\", index=False)"
      ]
    },
    {
      "cell_type": "code",
      "execution_count": 35,
      "metadata": {
        "id": "pB6pjmAcDOym"
      },
      "outputs": [
        {
          "data": {
            "text/plain": [
              "618    314813\n",
              "870    109500\n",
              "92     163500\n",
              "817    271000\n",
              "302    205000\n",
              "Name: SalePrice, dtype: int64"
            ]
          },
          "execution_count": 35,
          "metadata": {},
          "output_type": "execute_result"
        }
      ],
      "source": [
        "y_train.head()"
      ]
    },
    {
      "cell_type": "code",
      "execution_count": 36,
      "metadata": {
        "id": "ZZ93HN6cDPBN"
      },
      "outputs": [],
      "source": [
        "y_train.to_csv(f\"{file_path}/y_train.csv\", index=False)"
      ]
    },
    {
      "cell_type": "markdown",
      "metadata": {
        "id": "aVbS3OnRDYtJ"
      },
      "source": [
        "## Test Set: features and target"
      ]
    },
    {
      "cell_type": "code",
      "execution_count": 37,
      "metadata": {
        "id": "XbgF38n1DaPp"
      },
      "outputs": [
        {
          "data": {
            "text/html": [
              "<div>\n",
              "<style scoped>\n",
              "    .dataframe tbody tr th:only-of-type {\n",
              "        vertical-align: middle;\n",
              "    }\n",
              "\n",
              "    .dataframe tbody tr th {\n",
              "        vertical-align: top;\n",
              "    }\n",
              "\n",
              "    .dataframe thead th {\n",
              "        text-align: right;\n",
              "    }\n",
              "</style>\n",
              "<table border=\"1\" class=\"dataframe\">\n",
              "  <thead>\n",
              "    <tr style=\"text-align: right;\">\n",
              "      <th></th>\n",
              "      <th>GarageArea</th>\n",
              "      <th>GrLivArea</th>\n",
              "      <th>OverallQual</th>\n",
              "      <th>TotalBsmtSF</th>\n",
              "      <th>YearBuilt</th>\n",
              "    </tr>\n",
              "  </thead>\n",
              "  <tbody>\n",
              "    <tr>\n",
              "      <th>529</th>\n",
              "      <td>484</td>\n",
              "      <td>2515</td>\n",
              "      <td>6</td>\n",
              "      <td>2035</td>\n",
              "      <td>1957</td>\n",
              "    </tr>\n",
              "    <tr>\n",
              "      <th>491</th>\n",
              "      <td>240</td>\n",
              "      <td>1578</td>\n",
              "      <td>6</td>\n",
              "      <td>806</td>\n",
              "      <td>1941</td>\n",
              "    </tr>\n",
              "    <tr>\n",
              "      <th>459</th>\n",
              "      <td>352</td>\n",
              "      <td>1203</td>\n",
              "      <td>5</td>\n",
              "      <td>709</td>\n",
              "      <td>1950</td>\n",
              "    </tr>\n",
              "    <tr>\n",
              "      <th>279</th>\n",
              "      <td>505</td>\n",
              "      <td>2022</td>\n",
              "      <td>7</td>\n",
              "      <td>1160</td>\n",
              "      <td>1977</td>\n",
              "    </tr>\n",
              "    <tr>\n",
              "      <th>655</th>\n",
              "      <td>264</td>\n",
              "      <td>1092</td>\n",
              "      <td>6</td>\n",
              "      <td>525</td>\n",
              "      <td>1971</td>\n",
              "    </tr>\n",
              "  </tbody>\n",
              "</table>\n",
              "</div>"
            ],
            "text/plain": [
              "     GarageArea  GrLivArea  OverallQual  TotalBsmtSF  YearBuilt\n",
              "529         484       2515            6         2035       1957\n",
              "491         240       1578            6          806       1941\n",
              "459         352       1203            5          709       1950\n",
              "279         505       2022            7         1160       1977\n",
              "655         264       1092            6          525       1971"
            ]
          },
          "execution_count": 37,
          "metadata": {},
          "output_type": "execute_result"
        }
      ],
      "source": [
        "X_test.head()"
      ]
    },
    {
      "cell_type": "code",
      "execution_count": 38,
      "metadata": {
        "id": "x9lM0xDvDaVZ"
      },
      "outputs": [],
      "source": [
        "X_test.to_csv(f\"{file_path}/X_test.csv\", index=False)"
      ]
    },
    {
      "cell_type": "code",
      "execution_count": 39,
      "metadata": {
        "id": "5Jz66iMaDacI"
      },
      "outputs": [
        {
          "data": {
            "text/plain": [
              "529    200624\n",
              "491    133000\n",
              "459    110000\n",
              "279    192000\n",
              "655     88000\n",
              "Name: SalePrice, dtype: int64"
            ]
          },
          "execution_count": 39,
          "metadata": {},
          "output_type": "execute_result"
        }
      ],
      "source": [
        "y_test.head()"
      ]
    },
    {
      "cell_type": "code",
      "execution_count": 40,
      "metadata": {
        "id": "weYaJ4UxDake"
      },
      "outputs": [],
      "source": [
        "y_test.to_csv(f\"{file_path}/y_test.csv\", index=False)"
      ]
    },
    {
      "cell_type": "markdown",
      "metadata": {
        "id": "U-XpkYAPFncu"
      },
      "source": [
        "## Modelling pipeline"
      ]
    },
    {
      "cell_type": "markdown",
      "metadata": {
        "id": "xLmFFWF6RGo6"
      },
      "source": [
        "ML pipeline for predicting tenure"
      ]
    },
    {
      "cell_type": "code",
      "execution_count": 41,
      "metadata": {
        "id": "vQkr4rcrHDnn"
      },
      "outputs": [
        {
          "data": {
            "text/html": [
              "<style>#sk-container-id-4 {color: black;background-color: white;}#sk-container-id-4 pre{padding: 0;}#sk-container-id-4 div.sk-toggleable {background-color: white;}#sk-container-id-4 label.sk-toggleable__label {cursor: pointer;display: block;width: 100%;margin-bottom: 0;padding: 0.3em;box-sizing: border-box;text-align: center;}#sk-container-id-4 label.sk-toggleable__label-arrow:before {content: \"▸\";float: left;margin-right: 0.25em;color: #696969;}#sk-container-id-4 label.sk-toggleable__label-arrow:hover:before {color: black;}#sk-container-id-4 div.sk-estimator:hover label.sk-toggleable__label-arrow:before {color: black;}#sk-container-id-4 div.sk-toggleable__content {max-height: 0;max-width: 0;overflow: hidden;text-align: left;background-color: #f0f8ff;}#sk-container-id-4 div.sk-toggleable__content pre {margin: 0.2em;color: black;border-radius: 0.25em;background-color: #f0f8ff;}#sk-container-id-4 input.sk-toggleable__control:checked~div.sk-toggleable__content {max-height: 200px;max-width: 100%;overflow: auto;}#sk-container-id-4 input.sk-toggleable__control:checked~label.sk-toggleable__label-arrow:before {content: \"▾\";}#sk-container-id-4 div.sk-estimator input.sk-toggleable__control:checked~label.sk-toggleable__label {background-color: #d4ebff;}#sk-container-id-4 div.sk-label input.sk-toggleable__control:checked~label.sk-toggleable__label {background-color: #d4ebff;}#sk-container-id-4 input.sk-hidden--visually {border: 0;clip: rect(1px 1px 1px 1px);clip: rect(1px, 1px, 1px, 1px);height: 1px;margin: -1px;overflow: hidden;padding: 0;position: absolute;width: 1px;}#sk-container-id-4 div.sk-estimator {font-family: monospace;background-color: #f0f8ff;border: 1px dotted black;border-radius: 0.25em;box-sizing: border-box;margin-bottom: 0.5em;}#sk-container-id-4 div.sk-estimator:hover {background-color: #d4ebff;}#sk-container-id-4 div.sk-parallel-item::after {content: \"\";width: 100%;border-bottom: 1px solid gray;flex-grow: 1;}#sk-container-id-4 div.sk-label:hover label.sk-toggleable__label {background-color: #d4ebff;}#sk-container-id-4 div.sk-serial::before {content: \"\";position: absolute;border-left: 1px solid gray;box-sizing: border-box;top: 0;bottom: 0;left: 50%;z-index: 0;}#sk-container-id-4 div.sk-serial {display: flex;flex-direction: column;align-items: center;background-color: white;padding-right: 0.2em;padding-left: 0.2em;position: relative;}#sk-container-id-4 div.sk-item {position: relative;z-index: 1;}#sk-container-id-4 div.sk-parallel {display: flex;align-items: stretch;justify-content: center;background-color: white;position: relative;}#sk-container-id-4 div.sk-item::before, #sk-container-id-4 div.sk-parallel-item::before {content: \"\";position: absolute;border-left: 1px solid gray;box-sizing: border-box;top: 0;bottom: 0;left: 50%;z-index: -1;}#sk-container-id-4 div.sk-parallel-item {display: flex;flex-direction: column;z-index: 1;position: relative;background-color: white;}#sk-container-id-4 div.sk-parallel-item:first-child::after {align-self: flex-end;width: 50%;}#sk-container-id-4 div.sk-parallel-item:last-child::after {align-self: flex-start;width: 50%;}#sk-container-id-4 div.sk-parallel-item:only-child::after {width: 0;}#sk-container-id-4 div.sk-dashed-wrapped {border: 1px dashed gray;margin: 0 0.4em 0.5em 0.4em;box-sizing: border-box;padding-bottom: 0.4em;background-color: white;}#sk-container-id-4 div.sk-label label {font-family: monospace;font-weight: bold;display: inline-block;line-height: 1.2em;}#sk-container-id-4 div.sk-label-container {text-align: center;}#sk-container-id-4 div.sk-container {/* jupyter's `normalize.less` sets `[hidden] { display: none; }` but bootstrap.min.css set `[hidden] { display: none !important; }` so we also need the `!important` here to be able to override the default hidden behavior on the sphinx rendered scikit-learn.org. See: https://github.com/scikit-learn/scikit-learn/issues/21755 */display: inline-block !important;position: relative;}#sk-container-id-4 div.sk-text-repr-fallback {display: none;}</style><div id=\"sk-container-id-4\" class=\"sk-top-container\"><div class=\"sk-text-repr-fallback\"><pre>Pipeline(steps=[(&#x27;mean&#x27;,\n",
              "                 MeanMedianImputer(imputation_method=&#x27;mean&#x27;,\n",
              "                                   variables=[&#x27;TotalBsmtSF&#x27;])),\n",
              "                (&#x27;lt&#x27;, LogTransformer(variables=[&#x27;GrLivArea&#x27;])),\n",
              "                (&#x27;pt&#x27;, PowerTransformer(variables=[&#x27;TotalBsmtSF&#x27;])),\n",
              "                (&#x27;Winsoriser_iqr&#x27;,\n",
              "                 Winsorizer(capping_method=&#x27;iqr&#x27;, fold=1.5, tail=&#x27;both&#x27;,\n",
              "                            variables=[&#x27;TotalBsmtSF&#x27;, &#x27;GarageArea&#x27;])),\n",
              "                (&#x27;feat_scaling&#x27;, StandardScaler()),\n",
              "                (&#x27;model&#x27;,\n",
              "                 ExtraTreesRegressor(min_samples_split=50, random_state=0))])</pre><b>In a Jupyter environment, please rerun this cell to show the HTML representation or trust the notebook. <br />On GitHub, the HTML representation is unable to render, please try loading this page with nbviewer.org.</b></div><div class=\"sk-container\" hidden><div class=\"sk-item sk-dashed-wrapped\"><div class=\"sk-label-container\"><div class=\"sk-label sk-toggleable\"><input class=\"sk-toggleable__control sk-hidden--visually\" id=\"sk-estimator-id-38\" type=\"checkbox\" ><label for=\"sk-estimator-id-38\" class=\"sk-toggleable__label sk-toggleable__label-arrow\">Pipeline</label><div class=\"sk-toggleable__content\"><pre>Pipeline(steps=[(&#x27;mean&#x27;,\n",
              "                 MeanMedianImputer(imputation_method=&#x27;mean&#x27;,\n",
              "                                   variables=[&#x27;TotalBsmtSF&#x27;])),\n",
              "                (&#x27;lt&#x27;, LogTransformer(variables=[&#x27;GrLivArea&#x27;])),\n",
              "                (&#x27;pt&#x27;, PowerTransformer(variables=[&#x27;TotalBsmtSF&#x27;])),\n",
              "                (&#x27;Winsoriser_iqr&#x27;,\n",
              "                 Winsorizer(capping_method=&#x27;iqr&#x27;, fold=1.5, tail=&#x27;both&#x27;,\n",
              "                            variables=[&#x27;TotalBsmtSF&#x27;, &#x27;GarageArea&#x27;])),\n",
              "                (&#x27;feat_scaling&#x27;, StandardScaler()),\n",
              "                (&#x27;model&#x27;,\n",
              "                 ExtraTreesRegressor(min_samples_split=50, random_state=0))])</pre></div></div></div><div class=\"sk-serial\"><div class=\"sk-item\"><div class=\"sk-estimator sk-toggleable\"><input class=\"sk-toggleable__control sk-hidden--visually\" id=\"sk-estimator-id-39\" type=\"checkbox\" ><label for=\"sk-estimator-id-39\" class=\"sk-toggleable__label sk-toggleable__label-arrow\">MeanMedianImputer</label><div class=\"sk-toggleable__content\"><pre>MeanMedianImputer(imputation_method=&#x27;mean&#x27;, variables=[&#x27;TotalBsmtSF&#x27;])</pre></div></div></div><div class=\"sk-item\"><div class=\"sk-estimator sk-toggleable\"><input class=\"sk-toggleable__control sk-hidden--visually\" id=\"sk-estimator-id-40\" type=\"checkbox\" ><label for=\"sk-estimator-id-40\" class=\"sk-toggleable__label sk-toggleable__label-arrow\">LogTransformer</label><div class=\"sk-toggleable__content\"><pre>LogTransformer(variables=[&#x27;GrLivArea&#x27;])</pre></div></div></div><div class=\"sk-item\"><div class=\"sk-estimator sk-toggleable\"><input class=\"sk-toggleable__control sk-hidden--visually\" id=\"sk-estimator-id-41\" type=\"checkbox\" ><label for=\"sk-estimator-id-41\" class=\"sk-toggleable__label sk-toggleable__label-arrow\">PowerTransformer</label><div class=\"sk-toggleable__content\"><pre>PowerTransformer(variables=[&#x27;TotalBsmtSF&#x27;])</pre></div></div></div><div class=\"sk-item\"><div class=\"sk-estimator sk-toggleable\"><input class=\"sk-toggleable__control sk-hidden--visually\" id=\"sk-estimator-id-42\" type=\"checkbox\" ><label for=\"sk-estimator-id-42\" class=\"sk-toggleable__label sk-toggleable__label-arrow\">Winsorizer</label><div class=\"sk-toggleable__content\"><pre>Winsorizer(capping_method=&#x27;iqr&#x27;, fold=1.5, tail=&#x27;both&#x27;,\n",
              "           variables=[&#x27;TotalBsmtSF&#x27;, &#x27;GarageArea&#x27;])</pre></div></div></div><div class=\"sk-item\"><div class=\"sk-estimator sk-toggleable\"><input class=\"sk-toggleable__control sk-hidden--visually\" id=\"sk-estimator-id-43\" type=\"checkbox\" ><label for=\"sk-estimator-id-43\" class=\"sk-toggleable__label sk-toggleable__label-arrow\">StandardScaler</label><div class=\"sk-toggleable__content\"><pre>StandardScaler()</pre></div></div></div><div class=\"sk-item\"><div class=\"sk-estimator sk-toggleable\"><input class=\"sk-toggleable__control sk-hidden--visually\" id=\"sk-estimator-id-44\" type=\"checkbox\" ><label for=\"sk-estimator-id-44\" class=\"sk-toggleable__label sk-toggleable__label-arrow\">ExtraTreesRegressor</label><div class=\"sk-toggleable__content\"><pre>ExtraTreesRegressor(min_samples_split=50, random_state=0)</pre></div></div></div></div></div></div></div>"
            ],
            "text/plain": [
              "Pipeline(steps=[('mean',\n",
              "                 MeanMedianImputer(imputation_method='mean',\n",
              "                                   variables=['TotalBsmtSF'])),\n",
              "                ('lt', LogTransformer(variables=['GrLivArea'])),\n",
              "                ('pt', PowerTransformer(variables=['TotalBsmtSF'])),\n",
              "                ('Winsoriser_iqr',\n",
              "                 Winsorizer(capping_method='iqr', fold=1.5, tail='both',\n",
              "                            variables=['TotalBsmtSF', 'GarageArea'])),\n",
              "                ('feat_scaling', StandardScaler()),\n",
              "                ('model',\n",
              "                 ExtraTreesRegressor(min_samples_split=50, random_state=0))])"
            ]
          },
          "execution_count": 41,
          "metadata": {},
          "output_type": "execute_result"
        }
      ],
      "source": [
        "best_pipeline_regressor"
      ]
    },
    {
      "cell_type": "code",
      "execution_count": 42,
      "metadata": {
        "id": "YrZPif2aHdyO"
      },
      "outputs": [
        {
          "data": {
            "text/plain": [
              "['outputs/ml_pipeline/predict_price/v4/regression_pipeline.pkl']"
            ]
          },
          "execution_count": 42,
          "metadata": {},
          "output_type": "execute_result"
        }
      ],
      "source": [
        "joblib.dump(value=best_pipeline_regressor, filename=f\"{file_path}/regression_pipeline.pkl\")"
      ]
    },
    {
      "cell_type": "markdown",
      "metadata": {
        "id": "tTJlYRC5Q2wJ"
      },
      "source": [
        "## Feature importance plot"
      ]
    },
    {
      "cell_type": "code",
      "execution_count": 43,
      "metadata": {
        "id": "0SfLH05-Q2D8"
      },
      "outputs": [
        {
          "data": {
            "image/png": "[encoded data removed]",
            "text/plain": [
              "<Figure size 432x288 with 1 Axes>"
            ]
          },
          "metadata": {},
          "output_type": "display_data"
        }
      ],
      "source": [
        "df_feature_importance.plot(kind='bar', x='Feature', y='Importance')\n",
        "plt.show()"
      ]
    },
    {
      "cell_type": "code",
      "execution_count": 44,
      "metadata": {
        "id": "R-Hc2H3dQ74Z"
      },
      "outputs": [
        {
          "data": {
            "image/png": "[encoded data removed]",
            "text/plain": [
              "<Figure size 432x288 with 1 Axes>"
            ]
          },
          "metadata": {},
          "output_type": "display_data"
        }
      ],
      "source": [
        "df_feature_importance.plot(kind='bar',x='Feature',y='Importance')\n",
        "plt.savefig(f'{file_path}/features_importance.png', bbox_inches='tight')\n",
        "## Save to docs folder for documentation\n",
        "plt.savefig(f'docs/plots/features_importance.png', bbox_inches='tight') "
      ]
    },
    {
      "cell_type": "markdown",
      "metadata": {
        "id": "Sh0SKfv_s-3V"
      },
      "source": [
        "### Conclusions\n",
        "\n",
        "* The feature performance plot shows that variables related to size of the property, quality and age of the property have high predictive power.\n",
        "\n",
        "* As we hypothesized,\n",
        "    * Size does matter: ['GrLivArea', 'GarageArea', 'TotalBsmtSF']\n",
        "    * Quality is important: ['OverallQual' ]\n",
        "    * Time matters: ['YearBuilt' ]"
      ]
    },
    {
      "cell_type": "markdown",
      "metadata": {},
      "source": [
        "---"
      ]
    }
  ],
  "metadata": {
    "accelerator": "GPU",
    "colab": {
      "name": "Modeling and Evaluation - Predict Tenure.ipynb",
      "provenance": []
    },
    "interpreter": {
      "hash": "8b8334dab9339717f727a1deaf837b322d7a41c20d15cc86be99a8e69ceec8ce"
    },
    "kernelspec": {
      "display_name": "Python 3.8.12 64-bit ('3.8.12')",
      "language": "python",
      "name": "python3"
    },
    "language_info": {
      "codemirror_mode": {
        "name": "ipython",
        "version": 3
      },
      "file_extension": ".py",
      "mimetype": "text/x-python",
      "name": "python",
      "nbconvert_exporter": "python",
      "pygments_lexer": "ipython3",
      "version": "3.8.12 (default, Mar  7 2022, 06:00:05) \n[GCC 9.3.0]"
    },
    "orig_nbformat": 2
  },
  "nbformat": 4,
  "nbformat_minor": 2
}
